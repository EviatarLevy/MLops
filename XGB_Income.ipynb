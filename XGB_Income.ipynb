{
 "cells": [
  {
   "cell_type": "markdown",
   "metadata": {},
   "source": [
    "# Setting up Ezmeral's Jupyter Notebook\n",
   ]
  },
  {
   "cell_type": "markdown",
   "metadata": {},
   "source": [
    "# Setting up environment"
   ]
  },
  {
   "cell_type": "code",
   "execution_count": 1,
   "metadata": {},
   "outputs": [
    {
     "name": "stdout",
     "output_type": "stream",
     "text": [
      "Training Cluster    ML Engine\n",
      "------------------  -----------\n",
      "garageclustergpu    python\n"
     ]
    }
   ],
   "source": [
    "%attachments"
   ]
  },
  {
   "cell_type": "code",
   "execution_count": 2,
   "metadata": {},
   "outputs": [
    {
     "name": "stdout",
     "output_type": "stream",
     "text": [
      "Job ID: 14, History URL: http://garage-cluster-gpu-loadbalancer-sxgqh-0.garage-cluster-gpup5nlg.mlops-ex-demo.svc.cluster.local:10001/history/14\n"
     ]
    }
   ],
   "source": [
    "%%garageclustergpu\n",
    "print('test')"
   ]
  },
  {
   "cell_type": "code",
   "execution_count": 3,
   "metadata": {},
   "outputs": [
    {
     "name": "stdout",
     "output_type": "stream",
     "text": [
      "Job Status: Finished\n",
      "test\n",
      "\n",
      "\n",
      "\n"
     ]
    }
   ],
   "source": [
    "%logs --url  http://garage-cluster-gpu-loadbalancer-sxgqh-0.garage-cluster-gpup5nlg.mlops-ex-demo.svc.cluster.local:10001/history/1"
   ]
  },
  {
   "cell_type": "code",
   "execution_count": 4,
   "metadata": {},
   "outputs": [
    {
     "name": "stderr",
     "output_type": "stream",
     "text": [
      "20:02:18: Create and start thread 0.\n",
      "20:02:19: Create and start thread 10.\n",
      "20:02:20: Create and start thread 20.\n",
      "20:02:22: Create and start thread 30.\n",
      "20:02:28: All done\n"
     ]
    }
   ],
   "source": [
    "import logging\n",
    "import threading\n",
    "import time\n",
    "\n",
    "def thread_function(x):\n",
    "    set_time = 1\n",
    "    timeout = time.time() + 5*float(set_time) # 5 sec CPU load per thread\n",
    "    while True:\n",
    "        if time.time() > timeout:\n",
    "            break\n",
    "\n",
    "if __name__ == \"__main__\":\n",
    "    format = \"%(asctime)s: %(message)s\"\n",
    "    logging.basicConfig(format=format, level=logging.INFO,\n",
    "                        datefmt=\"%H:%M:%S\")\n",
    "\n",
    "    threads = list()\n",
    "    for index in range(31):\n",
    "        if index%10 == 0:\n",
    "            logging.info(\"Create and start thread %d.\", index)\n",
    "        x = threading.Thread(target=thread_function, args=(index,))\n",
    "        threads.append(x)\n",
    "        x.start()\n",
    "\n",
    "    for index, thread in enumerate(threads):\n",
    "        thread.join()\n",
    "\n",
    "    logging.info(\"All done\")"
   ]
  },
  {
   "cell_type": "code",
   "execution_count": 5,
   "metadata": {},
   "outputs": [
    {
     "name": "stdout",
     "output_type": "stream",
     "text": [
      "Job ID: 15, History URL: http://garage-cluster-gpu-restserver-4bv9b-0.garage-cluster-gpup5nlg.mlops-ex-demo.svc.cluster.local:10001/history/15\n"
     ]
    }
   ],
   "source": [
    "%%garageclustergpu\n",
    "\n",
    "import logging\n",
    "import threading\n",
    "import time\n",
    "\n",
    "def thread_function(x):\n",
    "    set_time = 1\n",
    "    timeout = time.time() + 5*float(set_time) # 5 sec CPU load per thread\n",
    "    while True:\n",
    "        if time.time() > timeout:\n",
    "            break\n",
    "\n",
    "if __name__ == \"__main__\":\n",
    "    format = \"%(asctime)s: %(message)s\"\n",
    "    logging.basicConfig(format=format, level=logging.INFO,\n",
    "                        datefmt=\"%H:%M:%S\")\n",
    "\n",
    "    threads = list()\n",
    "    for index in range(31):\n",
    "        if index%10 == 0:\n",
    "            logging.info(\"Create and start thread %d.\", index)\n",
    "        x = threading.Thread(target=thread_function, args=(index,))\n",
    "        threads.append(x)\n",
    "        x.start()\n",
    "\n",
    "    for index, thread in enumerate(threads):\n",
    "        thread.join()\n",
    "\n",
    "    logging.info(\"All done\")\n"
   ]
  },
  {
   "cell_type": "code",
   "execution_count": 6,
   "metadata": {},
   "outputs": [
    {
     "name": "stdout",
     "output_type": "stream",
     "text": [
      "Job Status: Finished\n",
      "\n",
      "19:46:19: Create and start thread 0.\n",
      "19:46:19: Create and start thread 10.\n",
      "19:46:19: Create and start thread 20.\n",
      "19:46:21: Create and start thread 30.\n",
      "19:46:26: All done\n",
      "\n",
      "\n"
     ]
    }
   ],
   "source": [
    "%logs --url  http://garage-cluster-gpu-restserver-4bv9b-0.garage-cluster-gpup5nlg.mlops-ex-demo.svc.cluster.local:10001/history/2"
   ]
  },
  {
   "cell_type": "markdown",
   "metadata": {},
   "source": [
    "# XGBoost Classification Model\n",
    "- Attempting to predict likelyhood of income either <=50K or >50K from 1994 Census database\n",
    "- https://jessesw.com/XG-Boost/"
   ]
  },
  {
   "cell_type": "code",
   "execution_count": 7,
   "metadata": {},
   "outputs": [
    {
     "name": "stderr",
     "output_type": "stream",
     "text": [
      "20:02:30: generated new fontManager\n"
     ]
    }
   ],
   "source": [
    "import numpy as np\n",
    "import pandas as pd\n",
    "import os\n",
    "import json\n",
    "import seaborn as sns\n",
    "sns.set(font_scale=1.5)\n",
    "\n",
    "%matplotlib inline "
   ]
  },
  {
   "cell_type": "code",
   "execution_count": 8,
   "metadata": {},
   "outputs": [],
   "source": [
    "def ProjectRepo(path):\n",
    "   ProjectRepo = os.popen('bdvcli --get cluster.project_repo').read().rstrip()\n",
    "   return str(ProjectRepo + '/' + path)"
   ]
  },
  {
   "cell_type": "markdown",
   "metadata": {},
   "source": [
    "# Data preprocessing"
   ]
  },
  {
   "cell_type": "code",
   "execution_count": 9,
   "metadata": {},
   "outputs": [],
   "source": [
    "train_file = ProjectRepo('/bd-fs-mnt/TenantShare/Leumi-data/income-prediction/adult_data.csv')\n",
    "test_file = ProjectRepo('/bd-fs-mnt/TenantShare/Leumi-data/income-prediction/adult_test.csv')"
   ]
  },
  {
   "cell_type": "code",
   "execution_count": 10,
   "metadata": {},
   "outputs": [
    {
     "data": {
      "text/html": [
       "<div>\n",
       "<style scoped>\n",
       "    .dataframe tbody tr th:only-of-type {\n",
       "        vertical-align: middle;\n",
       "    }\n",
       "\n",
       "    .dataframe tbody tr th {\n",
       "        vertical-align: top;\n",
       "    }\n",
       "\n",
       "    .dataframe thead th {\n",
       "        text-align: right;\n",
       "    }\n",
       "</style>\n",
       "<table border=\"1\" class=\"dataframe\">\n",
       "  <thead>\n",
       "    <tr style=\"text-align: right;\">\n",
       "      <th></th>\n",
       "      <th>0</th>\n",
       "      <th>1</th>\n",
       "      <th>2</th>\n",
       "      <th>3</th>\n",
       "      <th>4</th>\n",
       "      <th>5</th>\n",
       "      <th>6</th>\n",
       "      <th>7</th>\n",
       "      <th>8</th>\n",
       "      <th>9</th>\n",
       "      <th>10</th>\n",
       "      <th>11</th>\n",
       "      <th>12</th>\n",
       "      <th>13</th>\n",
       "      <th>14</th>\n",
       "    </tr>\n",
       "  </thead>\n",
       "  <tbody>\n",
       "    <tr>\n",
       "      <th>0</th>\n",
       "      <td>39</td>\n",
       "      <td>State-gov</td>\n",
       "      <td>77516</td>\n",
       "      <td>Bachelors</td>\n",
       "      <td>13</td>\n",
       "      <td>Never-married</td>\n",
       "      <td>Adm-clerical</td>\n",
       "      <td>Not-in-family</td>\n",
       "      <td>White</td>\n",
       "      <td>Male</td>\n",
       "      <td>2174</td>\n",
       "      <td>0</td>\n",
       "      <td>40</td>\n",
       "      <td>United-States</td>\n",
       "      <td>&lt;=50K</td>\n",
       "    </tr>\n",
       "    <tr>\n",
       "      <th>1</th>\n",
       "      <td>50</td>\n",
       "      <td>Self-emp-not-inc</td>\n",
       "      <td>83311</td>\n",
       "      <td>Bachelors</td>\n",
       "      <td>13</td>\n",
       "      <td>Married-civ-spouse</td>\n",
       "      <td>Exec-managerial</td>\n",
       "      <td>Husband</td>\n",
       "      <td>White</td>\n",
       "      <td>Male</td>\n",
       "      <td>0</td>\n",
       "      <td>0</td>\n",
       "      <td>13</td>\n",
       "      <td>United-States</td>\n",
       "      <td>&lt;=50K</td>\n",
       "    </tr>\n",
       "    <tr>\n",
       "      <th>2</th>\n",
       "      <td>38</td>\n",
       "      <td>Private</td>\n",
       "      <td>215646</td>\n",
       "      <td>HS-grad</td>\n",
       "      <td>9</td>\n",
       "      <td>Divorced</td>\n",
       "      <td>Handlers-cleaners</td>\n",
       "      <td>Not-in-family</td>\n",
       "      <td>White</td>\n",
       "      <td>Male</td>\n",
       "      <td>0</td>\n",
       "      <td>0</td>\n",
       "      <td>40</td>\n",
       "      <td>United-States</td>\n",
       "      <td>&lt;=50K</td>\n",
       "    </tr>\n",
       "    <tr>\n",
       "      <th>3</th>\n",
       "      <td>53</td>\n",
       "      <td>Private</td>\n",
       "      <td>234721</td>\n",
       "      <td>11th</td>\n",
       "      <td>7</td>\n",
       "      <td>Married-civ-spouse</td>\n",
       "      <td>Handlers-cleaners</td>\n",
       "      <td>Husband</td>\n",
       "      <td>Black</td>\n",
       "      <td>Male</td>\n",
       "      <td>0</td>\n",
       "      <td>0</td>\n",
       "      <td>40</td>\n",
       "      <td>United-States</td>\n",
       "      <td>&lt;=50K</td>\n",
       "    </tr>\n",
       "    <tr>\n",
       "      <th>4</th>\n",
       "      <td>28</td>\n",
       "      <td>Private</td>\n",
       "      <td>338409</td>\n",
       "      <td>Bachelors</td>\n",
       "      <td>13</td>\n",
       "      <td>Married-civ-spouse</td>\n",
       "      <td>Prof-specialty</td>\n",
       "      <td>Wife</td>\n",
       "      <td>Black</td>\n",
       "      <td>Female</td>\n",
       "      <td>0</td>\n",
       "      <td>0</td>\n",
       "      <td>40</td>\n",
       "      <td>Cuba</td>\n",
       "      <td>&lt;=50K</td>\n",
       "    </tr>\n",
       "  </tbody>\n",
       "</table>\n",
       "</div>"
      ],
      "text/plain": [
       "   0                  1       2           3   4                    5   \\\n",
       "0  39          State-gov   77516   Bachelors  13        Never-married   \n",
       "1  50   Self-emp-not-inc   83311   Bachelors  13   Married-civ-spouse   \n",
       "2  38            Private  215646     HS-grad   9             Divorced   \n",
       "3  53            Private  234721        11th   7   Married-civ-spouse   \n",
       "4  28            Private  338409   Bachelors  13   Married-civ-spouse   \n",
       "\n",
       "                   6               7       8        9     10  11  12  \\\n",
       "0        Adm-clerical   Not-in-family   White     Male  2174   0  40   \n",
       "1     Exec-managerial         Husband   White     Male     0   0  13   \n",
       "2   Handlers-cleaners   Not-in-family   White     Male     0   0  40   \n",
       "3   Handlers-cleaners         Husband   Black     Male     0   0  40   \n",
       "4      Prof-specialty            Wife   Black   Female     0   0  40   \n",
       "\n",
       "               13      14  \n",
       "0   United-States   <=50K  \n",
       "1   United-States   <=50K  \n",
       "2   United-States   <=50K  \n",
       "3   United-States   <=50K  \n",
       "4            Cuba   <=50K  "
      ]
     },
     "execution_count": 10,
     "metadata": {},
     "output_type": "execute_result"
    }
   ],
   "source": [
    "train_set = pd.read_csv(train_file, header=None)\n",
    "train_set.head()"
   ]
  },
  {
   "cell_type": "code",
   "execution_count": 11,
   "metadata": {},
   "outputs": [
    {
     "data": {
      "text/html": [
       "<div>\n",
       "<style scoped>\n",
       "    .dataframe tbody tr th:only-of-type {\n",
       "        vertical-align: middle;\n",
       "    }\n",
       "\n",
       "    .dataframe tbody tr th {\n",
       "        vertical-align: top;\n",
       "    }\n",
       "\n",
       "    .dataframe thead th {\n",
       "        text-align: right;\n",
       "    }\n",
       "</style>\n",
       "<table border=\"1\" class=\"dataframe\">\n",
       "  <thead>\n",
       "    <tr style=\"text-align: right;\">\n",
       "      <th></th>\n",
       "      <th>0</th>\n",
       "      <th>1</th>\n",
       "      <th>2</th>\n",
       "      <th>3</th>\n",
       "      <th>4</th>\n",
       "      <th>5</th>\n",
       "      <th>6</th>\n",
       "      <th>7</th>\n",
       "      <th>8</th>\n",
       "      <th>9</th>\n",
       "      <th>10</th>\n",
       "      <th>11</th>\n",
       "      <th>12</th>\n",
       "      <th>13</th>\n",
       "      <th>14</th>\n",
       "    </tr>\n",
       "  </thead>\n",
       "  <tbody>\n",
       "    <tr>\n",
       "      <th>0</th>\n",
       "      <td>25</td>\n",
       "      <td>Private</td>\n",
       "      <td>226802</td>\n",
       "      <td>11th</td>\n",
       "      <td>7</td>\n",
       "      <td>Never-married</td>\n",
       "      <td>Machine-op-inspct</td>\n",
       "      <td>Own-child</td>\n",
       "      <td>Black</td>\n",
       "      <td>Male</td>\n",
       "      <td>0</td>\n",
       "      <td>0</td>\n",
       "      <td>40</td>\n",
       "      <td>United-States</td>\n",
       "      <td>&lt;=50K.</td>\n",
       "    </tr>\n",
       "    <tr>\n",
       "      <th>1</th>\n",
       "      <td>38</td>\n",
       "      <td>Private</td>\n",
       "      <td>89814</td>\n",
       "      <td>HS-grad</td>\n",
       "      <td>9</td>\n",
       "      <td>Married-civ-spouse</td>\n",
       "      <td>Farming-fishing</td>\n",
       "      <td>Husband</td>\n",
       "      <td>White</td>\n",
       "      <td>Male</td>\n",
       "      <td>0</td>\n",
       "      <td>0</td>\n",
       "      <td>50</td>\n",
       "      <td>United-States</td>\n",
       "      <td>&lt;=50K.</td>\n",
       "    </tr>\n",
       "    <tr>\n",
       "      <th>2</th>\n",
       "      <td>28</td>\n",
       "      <td>Local-gov</td>\n",
       "      <td>336951</td>\n",
       "      <td>Assoc-acdm</td>\n",
       "      <td>12</td>\n",
       "      <td>Married-civ-spouse</td>\n",
       "      <td>Protective-serv</td>\n",
       "      <td>Husband</td>\n",
       "      <td>White</td>\n",
       "      <td>Male</td>\n",
       "      <td>0</td>\n",
       "      <td>0</td>\n",
       "      <td>40</td>\n",
       "      <td>United-States</td>\n",
       "      <td>&gt;50K.</td>\n",
       "    </tr>\n",
       "    <tr>\n",
       "      <th>3</th>\n",
       "      <td>44</td>\n",
       "      <td>Private</td>\n",
       "      <td>160323</td>\n",
       "      <td>Some-college</td>\n",
       "      <td>10</td>\n",
       "      <td>Married-civ-spouse</td>\n",
       "      <td>Machine-op-inspct</td>\n",
       "      <td>Husband</td>\n",
       "      <td>Black</td>\n",
       "      <td>Male</td>\n",
       "      <td>7688</td>\n",
       "      <td>0</td>\n",
       "      <td>40</td>\n",
       "      <td>United-States</td>\n",
       "      <td>&gt;50K.</td>\n",
       "    </tr>\n",
       "    <tr>\n",
       "      <th>4</th>\n",
       "      <td>18</td>\n",
       "      <td>?</td>\n",
       "      <td>103497</td>\n",
       "      <td>Some-college</td>\n",
       "      <td>10</td>\n",
       "      <td>Never-married</td>\n",
       "      <td>?</td>\n",
       "      <td>Own-child</td>\n",
       "      <td>White</td>\n",
       "      <td>Female</td>\n",
       "      <td>0</td>\n",
       "      <td>0</td>\n",
       "      <td>30</td>\n",
       "      <td>United-States</td>\n",
       "      <td>&lt;=50K.</td>\n",
       "    </tr>\n",
       "  </tbody>\n",
       "</table>\n",
       "</div>"
      ],
      "text/plain": [
       "   0           1       2              3   4                    5   \\\n",
       "0  25     Private  226802           11th   7        Never-married   \n",
       "1  38     Private   89814        HS-grad   9   Married-civ-spouse   \n",
       "2  28   Local-gov  336951     Assoc-acdm  12   Married-civ-spouse   \n",
       "3  44     Private  160323   Some-college  10   Married-civ-spouse   \n",
       "4  18           ?  103497   Some-college  10        Never-married   \n",
       "\n",
       "                   6           7       8        9     10  11  12  \\\n",
       "0   Machine-op-inspct   Own-child   Black     Male     0   0  40   \n",
       "1     Farming-fishing     Husband   White     Male     0   0  50   \n",
       "2     Protective-serv     Husband   White     Male     0   0  40   \n",
       "3   Machine-op-inspct     Husband   Black     Male  7688   0  40   \n",
       "4                   ?   Own-child   White   Female     0   0  30   \n",
       "\n",
       "               13       14  \n",
       "0   United-States   <=50K.  \n",
       "1   United-States   <=50K.  \n",
       "2   United-States    >50K.  \n",
       "3   United-States    >50K.  \n",
       "4   United-States   <=50K.  "
      ]
     },
     "execution_count": 11,
     "metadata": {},
     "output_type": "execute_result"
    }
   ],
   "source": [
    "test_set = pd.read_csv(test_file, skiprows=1, header=None)\n",
    "test_set.head()"
   ]
  },
  {
   "cell_type": "markdown",
   "metadata": {},
   "source": [
    "## Initial Findings\n",
    "1. No column headers (can fix using dataset description from website)\n",
    "2. Some \"?\" in test data \n",
    "3. Target values differ in train and test set"
   ]
  },
  {
   "cell_type": "markdown",
   "metadata": {},
   "source": [
    "#### 1. Fix column headers"
   ]
  },
  {
   "cell_type": "code",
   "execution_count": 12,
   "metadata": {},
   "outputs": [],
   "source": [
    "col_labels = ['age', 'workclass', 'fnlwgt', 'education', 'education_num', 'marital_status', 'occupation', \n",
    "              'relationship', 'race', 'sex', 'capital_gain', 'capital_loss', 'hours_per_week', 'native_country',\n",
    "             'wage_class']"
   ]
  },
  {
   "cell_type": "code",
   "execution_count": 13,
   "metadata": {},
   "outputs": [],
   "source": [
    "train_set.columns = col_labels\n",
    "test_set.columns = col_labels"
   ]
  },
  {
   "cell_type": "markdown",
   "metadata": {},
   "source": [
    "#### 2. Clean up ? in data"
   ]
  },
  {
   "cell_type": "code",
   "execution_count": 14,
   "metadata": {},
   "outputs": [
    {
     "name": "stdout",
     "output_type": "stream",
     "text": [
      "<class 'pandas.core.frame.DataFrame'>\n",
      "RangeIndex: 32561 entries, 0 to 32560\n",
      "Data columns (total 15 columns):\n",
      " #   Column          Non-Null Count  Dtype \n",
      "---  ------          --------------  ----- \n",
      " 0   age             32561 non-null  int64 \n",
      " 1   workclass       32561 non-null  object\n",
      " 2   fnlwgt          32561 non-null  int64 \n",
      " 3   education       32561 non-null  object\n",
      " 4   education_num   32561 non-null  int64 \n",
      " 5   marital_status  32561 non-null  object\n",
      " 6   occupation      32561 non-null  object\n",
      " 7   relationship    32561 non-null  object\n",
      " 8   race            32561 non-null  object\n",
      " 9   sex             32561 non-null  object\n",
      " 10  capital_gain    32561 non-null  int64 \n",
      " 11  capital_loss    32561 non-null  int64 \n",
      " 12  hours_per_week  32561 non-null  int64 \n",
      " 13  native_country  32561 non-null  object\n",
      " 14  wage_class      32561 non-null  object\n",
      "dtypes: int64(6), object(9)\n",
      "memory usage: 3.7+ MB\n"
     ]
    }
   ],
   "source": [
    "train_set.info()"
   ]
  },
  {
   "cell_type": "code",
   "execution_count": 15,
   "metadata": {},
   "outputs": [
    {
     "name": "stdout",
     "output_type": "stream",
     "text": [
      "<class 'pandas.core.frame.DataFrame'>\n",
      "RangeIndex: 16281 entries, 0 to 16280\n",
      "Data columns (total 15 columns):\n",
      " #   Column          Non-Null Count  Dtype \n",
      "---  ------          --------------  ----- \n",
      " 0   age             16281 non-null  int64 \n",
      " 1   workclass       16281 non-null  object\n",
      " 2   fnlwgt          16281 non-null  int64 \n",
      " 3   education       16281 non-null  object\n",
      " 4   education_num   16281 non-null  int64 \n",
      " 5   marital_status  16281 non-null  object\n",
      " 6   occupation      16281 non-null  object\n",
      " 7   relationship    16281 non-null  object\n",
      " 8   race            16281 non-null  object\n",
      " 9   sex             16281 non-null  object\n",
      " 10  capital_gain    16281 non-null  int64 \n",
      " 11  capital_loss    16281 non-null  int64 \n",
      " 12  hours_per_week  16281 non-null  int64 \n",
      " 13  native_country  16281 non-null  object\n",
      " 14  wage_class      16281 non-null  object\n",
      "dtypes: int64(6), object(9)\n",
      "memory usage: 1.9+ MB\n"
     ]
    }
   ],
   "source": [
    "test_set.info()"
   ]
  },
  {
   "cell_type": "code",
   "execution_count": 16,
   "metadata": {},
   "outputs": [
    {
     "data": {
      "text/plain": [
       "(30162, 15)"
      ]
     },
     "execution_count": 16,
     "metadata": {},
     "output_type": "execute_result"
    }
   ],
   "source": [
    "train_set.replace(' ?', np.nan).dropna().shape"
   ]
  },
  {
   "cell_type": "code",
   "execution_count": 17,
   "metadata": {},
   "outputs": [
    {
     "data": {
      "text/plain": [
       "(15060, 15)"
      ]
     },
     "execution_count": 17,
     "metadata": {},
     "output_type": "execute_result"
    }
   ],
   "source": [
    "test_set.replace(' ?', np.nan).dropna().shape"
   ]
  },
  {
   "cell_type": "code",
   "execution_count": 18,
   "metadata": {},
   "outputs": [],
   "source": [
    "# removing rows with \"?\" from our dataframes \n",
    "train_no_missing = train_set.replace(' ?', np.nan).dropna()\n",
    "test_no_missing = test_set.replace(' ?', np.nan).dropna()"
   ]
  },
  {
   "cell_type": "markdown",
   "metadata": {},
   "source": [
    "#### 3. Fix targets (remove the extra periods from '<=50K.' to '<=50K')"
   ]
  },
  {
   "cell_type": "code",
   "execution_count": 19,
   "metadata": {},
   "outputs": [],
   "source": [
    "test_no_missing['wage_class'] = test_no_missing.wage_class.replace({' <=50K.' : ' <=50K', ' >50K.' : ' >50K'})"
   ]
  },
  {
   "cell_type": "code",
   "execution_count": 20,
   "metadata": {},
   "outputs": [
    {
     "data": {
      "text/plain": [
       "array([' <=50K', ' >50K'], dtype=object)"
      ]
     },
     "execution_count": 20,
     "metadata": {},
     "output_type": "execute_result"
    }
   ],
   "source": [
    "test_no_missing.wage_class.unique()"
   ]
  },
  {
   "cell_type": "code",
   "execution_count": 21,
   "metadata": {},
   "outputs": [
    {
     "data": {
      "text/plain": [
       "array([' <=50K', ' >50K'], dtype=object)"
      ]
     },
     "execution_count": 21,
     "metadata": {},
     "output_type": "execute_result"
    }
   ],
   "source": [
    "train_no_missing.wage_class.unique()"
   ]
  },
  {
   "cell_type": "markdown",
   "metadata": {},
   "source": [
    "## Applying ordinal encoding to categoricals\n",
    "- ordinal encoding: convert string labels to integer values 1 through k. First unique value in column becomes 1, the second becomes 2, the third becomes 3, adn so on\n"
   ]
  },
  {
   "cell_type": "code",
   "execution_count": 22,
   "metadata": {},
   "outputs": [
    {
     "name": "stdout",
     "output_type": "stream",
     "text": [
      "<class 'pandas.core.frame.DataFrame'>\n",
      "Int64Index: 45222 entries, 0 to 16280\n",
      "Data columns (total 15 columns):\n",
      " #   Column          Non-Null Count  Dtype \n",
      "---  ------          --------------  ----- \n",
      " 0   age             45222 non-null  int64 \n",
      " 1   workclass       45222 non-null  object\n",
      " 2   fnlwgt          45222 non-null  int64 \n",
      " 3   education       45222 non-null  object\n",
      " 4   education_num   45222 non-null  int64 \n",
      " 5   marital_status  45222 non-null  object\n",
      " 6   occupation      45222 non-null  object\n",
      " 7   relationship    45222 non-null  object\n",
      " 8   race            45222 non-null  object\n",
      " 9   sex             45222 non-null  object\n",
      " 10  capital_gain    45222 non-null  int64 \n",
      " 11  capital_loss    45222 non-null  int64 \n",
      " 12  hours_per_week  45222 non-null  int64 \n",
      " 13  native_country  45222 non-null  object\n",
      " 14  wage_class      45222 non-null  object\n",
      "dtypes: int64(6), object(9)\n",
      "memory usage: 5.5+ MB\n"
     ]
    }
   ],
   "source": [
    "#combine the datasets together first\n",
    "combined_set = pd.concat([train_no_missing, test_no_missing], axis=0)\n",
    "combined_set.info()"
   ]
  },
  {
   "cell_type": "code",
   "execution_count": 23,
   "metadata": {},
   "outputs": [
    {
     "data": {
      "text/plain": [
       "<pandas.core.groupby.generic.DataFrameGroupBy object at 0x7fec2d720550>"
      ]
     },
     "execution_count": 23,
     "metadata": {},
     "output_type": "execute_result"
    }
   ],
   "source": [
    "#Visualizations after initial cleaning of dataset \n",
    "group = combined_set.groupby('wage_class')\n",
    "group"
   ]
  },
  {
   "cell_type": "code",
   "execution_count": 24,
   "metadata": {},
   "outputs": [
    {
     "name": "stdout",
     "output_type": "stream",
     "text": [
      "<class 'pandas.core.frame.DataFrame'>\n",
      "Int64Index: 45222 entries, 0 to 16280\n",
      "Data columns (total 15 columns):\n",
      " #   Column          Non-Null Count  Dtype\n",
      "---  ------          --------------  -----\n",
      " 0   age             45222 non-null  int64\n",
      " 1   workclass       45222 non-null  int8 \n",
      " 2   fnlwgt          45222 non-null  int64\n",
      " 3   education       45222 non-null  int8 \n",
      " 4   education_num   45222 non-null  int64\n",
      " 5   marital_status  45222 non-null  int8 \n",
      " 6   occupation      45222 non-null  int8 \n",
      " 7   relationship    45222 non-null  int8 \n",
      " 8   race            45222 non-null  int8 \n",
      " 9   sex             45222 non-null  int8 \n",
      " 10  capital_gain    45222 non-null  int64\n",
      " 11  capital_loss    45222 non-null  int64\n",
      " 12  hours_per_week  45222 non-null  int64\n",
      " 13  native_country  45222 non-null  int8 \n",
      " 14  wage_class      45222 non-null  int8 \n",
      "dtypes: int64(6), int8(9)\n",
      "memory usage: 2.8 MB\n"
     ]
    }
   ],
   "source": [
    "#encode non-numerical features into numeric values using pandas Cateogrical codes \n",
    "#and generating categorical codes mapping into dictionary\n",
    "cat_codes = {}\n",
    "for feature in combined_set.columns: \n",
    "    if combined_set[feature].dtype == 'object':\n",
    "        #workclass : { occupation : number }\n",
    "        temp_dict = {}\n",
    "        feature_codes = list(pd.Categorical(combined_set[feature]).codes)\n",
    "        feature_list = list(combined_set[feature])\n",
    "        for i in range(len(feature_codes)):\n",
    "            temp_dict[feature_list[i].strip()] = int(feature_codes[i])\n",
    "            if len(temp_dict) > len(feature_list):\n",
    "                break\n",
    "        cat_codes[feature] = temp_dict\n",
    "        combined_set[feature] = pd.Categorical(combined_set[feature]).codes\n",
    "combined_set.info()"
   ]
  },
  {
   "cell_type": "code",
   "execution_count": 25,
   "metadata": {},
   "outputs": [],
   "source": [
    "# saving encoding to json file to be used for scoring script\n",
    "json_file = ProjectRepo('/bd-fs-mnt/TenantShare/Leumi-data/income-prediction/encoding.json')\n",
    "with open(json_file, 'w') as file:\n",
    "    json.dump(cat_codes, file)"
   ]
  },
  {
   "cell_type": "code",
   "execution_count": 26,
   "metadata": {},
   "outputs": [],
   "source": [
    "#split combined set back into test/train split \n",
    "final_train = combined_set[:train_no_missing.shape[0]] \n",
    "final_test = combined_set[train_no_missing.shape[0]:]\n",
    "final_train.to_csv(ProjectRepo('/bd-fs-mnt/TenantShare/Leumi-data/income-prediction/adult_train_cleaned.csv'))\n",
    "final_test.to_csv(ProjectRepo('/bd-fs-mnt/TenantShare/Leumi-data/income-prediction/adult_test_cleaned.csv'))"
   ]
  },
  {
   "cell_type": "code",
   "execution_count": 27,
   "metadata": {},
   "outputs": [],
   "source": [
    "#extracting target values from our test and train sets \n",
    "y_train = final_train.pop('wage_class')\n",
    "y_test = final_test.pop('wage_class')"
   ]
  },
  {
   "cell_type": "markdown",
   "metadata": {},
   "source": [
    "# Model Development"
   ]
  },
  {
   "cell_type": "code",
   "execution_count": 28,
   "metadata": {},
   "outputs": [],
   "source": [
    "import xgboost as xgb\n",
    "#from sklearn.model_selection import GridSearchCV"
   ]
  },
  {
   "cell_type": "markdown",
   "metadata": {},
   "source": [
    "### First model"
   ]
  },
  {
   "cell_type": "code",
   "execution_count": 29,
   "metadata": {},
   "outputs": [],
   "source": [
    "optimized_GBM = xgb.XGBClassifier(max_depth=3,\n",
    "                        subsample=0.33,\n",
    "                        objective='binary:logistic',\n",
    "                        n_estimators=300,\n",
    "                        learning_rate = 0.1)"
   ]
  },
  {
   "cell_type": "code",
   "execution_count": 30,
   "metadata": {},
   "outputs": [
    {
     "name": "stderr",
     "output_type": "stream",
     "text": [
      "/opt/miniconda/lib/python3.8/site-packages/xgboost/sklearn.py:1224: UserWarning: The use of label encoder in XGBClassifier is deprecated and will be removed in a future release. To remove this warning, do the following: 1) Pass option use_label_encoder=False when constructing XGBClassifier object; and 2) Encode your labels (y) as integers starting with 0, i.e. 0, 1, 2, ..., [num_class - 1].\n",
      "  warnings.warn(label_encoder_deprecation_msg, UserWarning)\n"
     ]
    },
    {
     "name": "stdout",
     "output_type": "stream",
     "text": [
      "[0]\tvalidation_0-error:0.16411\tvalidation_0-logloss:0.64333\tvalidation_1-error:0.16653\tvalidation_1-logloss:0.64341\n",
      "[1]\tvalidation_0-error:0.16411\tvalidation_0-logloss:0.60253\tvalidation_1-error:0.16653\tvalidation_1-logloss:0.60269\n",
      "[2]\tvalidation_0-error:0.16411\tvalidation_0-logloss:0.56866\tvalidation_1-error:0.16653\tvalidation_1-logloss:0.56892\n",
      "[3]\tvalidation_0-error:0.16411\tvalidation_0-logloss:0.54036\tvalidation_1-error:0.16653\tvalidation_1-logloss:0.54058\n",
      "[4]\tvalidation_0-error:0.16411\tvalidation_0-logloss:0.51653\tvalidation_1-error:0.16653\tvalidation_1-logloss:0.51684\n",
      "[5]\tvalidation_0-error:0.16411\tvalidation_0-logloss:0.49587\tvalidation_1-error:0.16653\tvalidation_1-logloss:0.49600\n",
      "[6]\tvalidation_0-error:0.16411\tvalidation_0-logloss:0.47838\tvalidation_1-error:0.16653\tvalidation_1-logloss:0.47836\n",
      "[7]\tvalidation_0-error:0.16392\tvalidation_0-logloss:0.46301\tvalidation_1-error:0.16627\tvalidation_1-logloss:0.46319\n",
      "[8]\tvalidation_0-error:0.16388\tvalidation_0-logloss:0.44960\tvalidation_1-error:0.16620\tvalidation_1-logloss:0.44996\n",
      "[9]\tvalidation_0-error:0.16332\tvalidation_0-logloss:0.43767\tvalidation_1-error:0.16567\tvalidation_1-logloss:0.43822\n",
      "[10]\tvalidation_0-error:0.16408\tvalidation_0-logloss:0.42743\tvalidation_1-error:0.16627\tvalidation_1-logloss:0.42800\n",
      "[11]\tvalidation_0-error:0.15907\tvalidation_0-logloss:0.41771\tvalidation_1-error:0.15989\tvalidation_1-logloss:0.41821\n",
      "[12]\tvalidation_0-error:0.15990\tvalidation_0-logloss:0.40919\tvalidation_1-error:0.16076\tvalidation_1-logloss:0.40958\n",
      "[13]\tvalidation_0-error:0.15702\tvalidation_0-logloss:0.40137\tvalidation_1-error:0.15810\tvalidation_1-logloss:0.40202\n",
      "[14]\tvalidation_0-error:0.15573\tvalidation_0-logloss:0.39433\tvalidation_1-error:0.15631\tvalidation_1-logloss:0.39480\n",
      "[15]\tvalidation_0-error:0.15549\tvalidation_0-logloss:0.38862\tvalidation_1-error:0.15578\tvalidation_1-logloss:0.38924\n",
      "[16]\tvalidation_0-error:0.15563\tvalidation_0-logloss:0.38292\tvalidation_1-error:0.15611\tvalidation_1-logloss:0.38377\n",
      "[17]\tvalidation_0-error:0.15513\tvalidation_0-logloss:0.37782\tvalidation_1-error:0.15591\tvalidation_1-logloss:0.37872\n",
      "[18]\tvalidation_0-error:0.15400\tvalidation_0-logloss:0.37346\tvalidation_1-error:0.15564\tvalidation_1-logloss:0.37439\n",
      "[19]\tvalidation_0-error:0.15539\tvalidation_0-logloss:0.36933\tvalidation_1-error:0.15598\tvalidation_1-logloss:0.37032\n",
      "[20]\tvalidation_0-error:0.15400\tvalidation_0-logloss:0.36546\tvalidation_1-error:0.15531\tvalidation_1-logloss:0.36655\n",
      "[21]\tvalidation_0-error:0.15268\tvalidation_0-logloss:0.36187\tvalidation_1-error:0.15405\tvalidation_1-logloss:0.36305\n",
      "[22]\tvalidation_0-error:0.15122\tvalidation_0-logloss:0.35882\tvalidation_1-error:0.15319\tvalidation_1-logloss:0.36036\n",
      "[23]\tvalidation_0-error:0.15125\tvalidation_0-logloss:0.35587\tvalidation_1-error:0.15312\tvalidation_1-logloss:0.35736\n",
      "[24]\tvalidation_0-error:0.15115\tvalidation_0-logloss:0.35339\tvalidation_1-error:0.15305\tvalidation_1-logloss:0.35484\n",
      "[25]\tvalidation_0-error:0.15112\tvalidation_0-logloss:0.35107\tvalidation_1-error:0.15279\tvalidation_1-logloss:0.35257\n",
      "[26]\tvalidation_0-error:0.15115\tvalidation_0-logloss:0.34860\tvalidation_1-error:0.15259\tvalidation_1-logloss:0.35009\n",
      "[27]\tvalidation_0-error:0.15228\tvalidation_0-logloss:0.34650\tvalidation_1-error:0.15365\tvalidation_1-logloss:0.34798\n",
      "[28]\tvalidation_0-error:0.15228\tvalidation_0-logloss:0.34423\tvalidation_1-error:0.15312\tvalidation_1-logloss:0.34561\n",
      "[29]\tvalidation_0-error:0.15234\tvalidation_0-logloss:0.34240\tvalidation_1-error:0.15299\tvalidation_1-logloss:0.34390\n",
      "[30]\tvalidation_0-error:0.15016\tvalidation_0-logloss:0.34058\tvalidation_1-error:0.15080\tvalidation_1-logloss:0.34212\n",
      "[31]\tvalidation_0-error:0.15049\tvalidation_0-logloss:0.33877\tvalidation_1-error:0.15080\tvalidation_1-logloss:0.34037\n",
      "[32]\tvalidation_0-error:0.15039\tvalidation_0-logloss:0.33662\tvalidation_1-error:0.15066\tvalidation_1-logloss:0.33825\n",
      "[33]\tvalidation_0-error:0.15035\tvalidation_0-logloss:0.33506\tvalidation_1-error:0.15066\tvalidation_1-logloss:0.33674\n",
      "[34]\tvalidation_0-error:0.14992\tvalidation_0-logloss:0.33308\tvalidation_1-error:0.15020\tvalidation_1-logloss:0.33476\n",
      "[35]\tvalidation_0-error:0.14992\tvalidation_0-logloss:0.33174\tvalidation_1-error:0.15027\tvalidation_1-logloss:0.33332\n",
      "[36]\tvalidation_0-error:0.14972\tvalidation_0-logloss:0.33060\tvalidation_1-error:0.15007\tvalidation_1-logloss:0.33218\n",
      "[37]\tvalidation_0-error:0.14979\tvalidation_0-logloss:0.32939\tvalidation_1-error:0.14993\tvalidation_1-logloss:0.33100\n",
      "[38]\tvalidation_0-error:0.14929\tvalidation_0-logloss:0.32820\tvalidation_1-error:0.14954\tvalidation_1-logloss:0.32994\n",
      "[39]\tvalidation_0-error:0.14903\tvalidation_0-logloss:0.32714\tvalidation_1-error:0.14927\tvalidation_1-logloss:0.32889\n",
      "[40]\tvalidation_0-error:0.14873\tvalidation_0-logloss:0.32619\tvalidation_1-error:0.14927\tvalidation_1-logloss:0.32811\n",
      "[41]\tvalidation_0-error:0.14863\tvalidation_0-logloss:0.32504\tvalidation_1-error:0.14907\tvalidation_1-logloss:0.32701\n",
      "[42]\tvalidation_0-error:0.14876\tvalidation_0-logloss:0.32411\tvalidation_1-error:0.14900\tvalidation_1-logloss:0.32621\n",
      "[43]\tvalidation_0-error:0.14876\tvalidation_0-logloss:0.32311\tvalidation_1-error:0.14900\tvalidation_1-logloss:0.32538\n",
      "[44]\tvalidation_0-error:0.14876\tvalidation_0-logloss:0.32239\tvalidation_1-error:0.14894\tvalidation_1-logloss:0.32465\n",
      "[45]\tvalidation_0-error:0.14721\tvalidation_0-logloss:0.32070\tvalidation_1-error:0.14781\tvalidation_1-logloss:0.32306\n",
      "[46]\tvalidation_0-error:0.14697\tvalidation_0-logloss:0.31984\tvalidation_1-error:0.14754\tvalidation_1-logloss:0.32242\n",
      "[47]\tvalidation_0-error:0.14694\tvalidation_0-logloss:0.31925\tvalidation_1-error:0.14754\tvalidation_1-logloss:0.32180\n",
      "[48]\tvalidation_0-error:0.14628\tvalidation_0-logloss:0.31802\tvalidation_1-error:0.14728\tvalidation_1-logloss:0.32054\n",
      "[49]\tvalidation_0-error:0.14641\tvalidation_0-logloss:0.31731\tvalidation_1-error:0.14741\tvalidation_1-logloss:0.31989\n",
      "[50]\tvalidation_0-error:0.14611\tvalidation_0-logloss:0.31678\tvalidation_1-error:0.14714\tvalidation_1-logloss:0.31943\n",
      "[51]\tvalidation_0-error:0.14578\tvalidation_0-logloss:0.31610\tvalidation_1-error:0.14615\tvalidation_1-logloss:0.31891\n",
      "[52]\tvalidation_0-error:0.14561\tvalidation_0-logloss:0.31544\tvalidation_1-error:0.14595\tvalidation_1-logloss:0.31819\n",
      "[53]\tvalidation_0-error:0.14568\tvalidation_0-logloss:0.31477\tvalidation_1-error:0.14549\tvalidation_1-logloss:0.31748\n",
      "[54]\tvalidation_0-error:0.14545\tvalidation_0-logloss:0.31436\tvalidation_1-error:0.14515\tvalidation_1-logloss:0.31708\n",
      "[55]\tvalidation_0-error:0.14528\tvalidation_0-logloss:0.31386\tvalidation_1-error:0.14502\tvalidation_1-logloss:0.31663\n",
      "[56]\tvalidation_0-error:0.14502\tvalidation_0-logloss:0.31316\tvalidation_1-error:0.14489\tvalidation_1-logloss:0.31608\n",
      "[57]\tvalidation_0-error:0.14392\tvalidation_0-logloss:0.31195\tvalidation_1-error:0.14489\tvalidation_1-logloss:0.31499\n",
      "[58]\tvalidation_0-error:0.14435\tvalidation_0-logloss:0.31158\tvalidation_1-error:0.14389\tvalidation_1-logloss:0.31470\n",
      "[59]\tvalidation_0-error:0.14399\tvalidation_0-logloss:0.31109\tvalidation_1-error:0.14469\tvalidation_1-logloss:0.31433\n",
      "[60]\tvalidation_0-error:0.14366\tvalidation_0-logloss:0.31060\tvalidation_1-error:0.14462\tvalidation_1-logloss:0.31377\n",
      "[61]\tvalidation_0-error:0.14372\tvalidation_0-logloss:0.31020\tvalidation_1-error:0.14376\tvalidation_1-logloss:0.31334\n",
      "[62]\tvalidation_0-error:0.14336\tvalidation_0-logloss:0.30974\tvalidation_1-error:0.14422\tvalidation_1-logloss:0.31297\n",
      "[63]\tvalidation_0-error:0.14286\tvalidation_0-logloss:0.30871\tvalidation_1-error:0.14389\tvalidation_1-logloss:0.31207\n",
      "[64]\tvalidation_0-error:0.14233\tvalidation_0-logloss:0.30795\tvalidation_1-error:0.14376\tvalidation_1-logloss:0.31140\n",
      "[65]\tvalidation_0-error:0.14193\tvalidation_0-logloss:0.30756\tvalidation_1-error:0.14343\tvalidation_1-logloss:0.31111\n",
      "[66]\tvalidation_0-error:0.14200\tvalidation_0-logloss:0.30705\tvalidation_1-error:0.14356\tvalidation_1-logloss:0.31074\n",
      "[67]\tvalidation_0-error:0.14160\tvalidation_0-logloss:0.30668\tvalidation_1-error:0.14316\tvalidation_1-logloss:0.31051\n",
      "[68]\tvalidation_0-error:0.14157\tvalidation_0-logloss:0.30614\tvalidation_1-error:0.14329\tvalidation_1-logloss:0.30996\n",
      "[69]\tvalidation_0-error:0.14160\tvalidation_0-logloss:0.30577\tvalidation_1-error:0.14329\tvalidation_1-logloss:0.30956\n",
      "[70]\tvalidation_0-error:0.14120\tvalidation_0-logloss:0.30550\tvalidation_1-error:0.14303\tvalidation_1-logloss:0.30921\n",
      "[71]\tvalidation_0-error:0.14124\tvalidation_0-logloss:0.30522\tvalidation_1-error:0.14263\tvalidation_1-logloss:0.30899\n",
      "[72]\tvalidation_0-error:0.14091\tvalidation_0-logloss:0.30488\tvalidation_1-error:0.14236\tvalidation_1-logloss:0.30882\n",
      "[73]\tvalidation_0-error:0.14057\tvalidation_0-logloss:0.30451\tvalidation_1-error:0.14190\tvalidation_1-logloss:0.30861\n",
      "[74]\tvalidation_0-error:0.14057\tvalidation_0-logloss:0.30418\tvalidation_1-error:0.14217\tvalidation_1-logloss:0.30833\n",
      "[75]\tvalidation_0-error:0.14047\tvalidation_0-logloss:0.30352\tvalidation_1-error:0.14243\tvalidation_1-logloss:0.30772\n",
      "[76]\tvalidation_0-error:0.13988\tvalidation_0-logloss:0.30313\tvalidation_1-error:0.14203\tvalidation_1-logloss:0.30752\n",
      "[77]\tvalidation_0-error:0.13978\tvalidation_0-logloss:0.30292\tvalidation_1-error:0.14197\tvalidation_1-logloss:0.30740\n",
      "[78]\tvalidation_0-error:0.13978\tvalidation_0-logloss:0.30248\tvalidation_1-error:0.14203\tvalidation_1-logloss:0.30692\n",
      "[79]\tvalidation_0-error:0.13945\tvalidation_0-logloss:0.30218\tvalidation_1-error:0.14137\tvalidation_1-logloss:0.30668\n",
      "[80]\tvalidation_0-error:0.13928\tvalidation_0-logloss:0.30182\tvalidation_1-error:0.14123\tvalidation_1-logloss:0.30646\n",
      "[81]\tvalidation_0-error:0.13918\tvalidation_0-logloss:0.30162\tvalidation_1-error:0.14183\tvalidation_1-logloss:0.30629\n",
      "[82]\tvalidation_0-error:0.13915\tvalidation_0-logloss:0.30141\tvalidation_1-error:0.14190\tvalidation_1-logloss:0.30615\n",
      "[83]\tvalidation_0-error:0.13892\tvalidation_0-logloss:0.30082\tvalidation_1-error:0.14197\tvalidation_1-logloss:0.30574\n",
      "[84]\tvalidation_0-error:0.13855\tvalidation_0-logloss:0.30019\tvalidation_1-error:0.14130\tvalidation_1-logloss:0.30508\n",
      "[85]\tvalidation_0-error:0.13849\tvalidation_0-logloss:0.30001\tvalidation_1-error:0.14137\tvalidation_1-logloss:0.30497\n",
      "[86]\tvalidation_0-error:0.13825\tvalidation_0-logloss:0.29982\tvalidation_1-error:0.14110\tvalidation_1-logloss:0.30481\n",
      "[87]\tvalidation_0-error:0.13819\tvalidation_0-logloss:0.29939\tvalidation_1-error:0.14024\tvalidation_1-logloss:0.30443\n",
      "[88]\tvalidation_0-error:0.13789\tvalidation_0-logloss:0.29911\tvalidation_1-error:0.14037\tvalidation_1-logloss:0.30410\n",
      "[89]\tvalidation_0-error:0.13815\tvalidation_0-logloss:0.29877\tvalidation_1-error:0.14024\tvalidation_1-logloss:0.30381\n",
      "[90]\tvalidation_0-error:0.13779\tvalidation_0-logloss:0.29856\tvalidation_1-error:0.14050\tvalidation_1-logloss:0.30367\n",
      "[91]\tvalidation_0-error:0.13769\tvalidation_0-logloss:0.29823\tvalidation_1-error:0.14057\tvalidation_1-logloss:0.30357\n",
      "[92]\tvalidation_0-error:0.13733\tvalidation_0-logloss:0.29799\tvalidation_1-error:0.14064\tvalidation_1-logloss:0.30351\n",
      "[93]\tvalidation_0-error:0.13746\tvalidation_0-logloss:0.29786\tvalidation_1-error:0.14090\tvalidation_1-logloss:0.30343\n",
      "[94]\tvalidation_0-error:0.13716\tvalidation_0-logloss:0.29768\tvalidation_1-error:0.14050\tvalidation_1-logloss:0.30333\n",
      "[95]\tvalidation_0-error:0.13723\tvalidation_0-logloss:0.29755\tvalidation_1-error:0.14070\tvalidation_1-logloss:0.30325\n",
      "[96]\tvalidation_0-error:0.13716\tvalidation_0-logloss:0.29735\tvalidation_1-error:0.14044\tvalidation_1-logloss:0.30320\n",
      "[97]\tvalidation_0-error:0.13713\tvalidation_0-logloss:0.29717\tvalidation_1-error:0.13971\tvalidation_1-logloss:0.30314\n",
      "[98]\tvalidation_0-error:0.13696\tvalidation_0-logloss:0.29694\tvalidation_1-error:0.13997\tvalidation_1-logloss:0.30287\n",
      "[99]\tvalidation_0-error:0.13693\tvalidation_0-logloss:0.29661\tvalidation_1-error:0.13944\tvalidation_1-logloss:0.30259\n",
      "[100]\tvalidation_0-error:0.13666\tvalidation_0-logloss:0.29623\tvalidation_1-error:0.13944\tvalidation_1-logloss:0.30232\n",
      "[101]\tvalidation_0-error:0.13663\tvalidation_0-logloss:0.29610\tvalidation_1-error:0.13958\tvalidation_1-logloss:0.30223\n",
      "[102]\tvalidation_0-error:0.13679\tvalidation_0-logloss:0.29569\tvalidation_1-error:0.13898\tvalidation_1-logloss:0.30175\n",
      "[103]\tvalidation_0-error:0.13593\tvalidation_0-logloss:0.29551\tvalidation_1-error:0.13904\tvalidation_1-logloss:0.30179\n",
      "[104]\tvalidation_0-error:0.13606\tvalidation_0-logloss:0.29514\tvalidation_1-error:0.13938\tvalidation_1-logloss:0.30144\n",
      "[105]\tvalidation_0-error:0.13583\tvalidation_0-logloss:0.29490\tvalidation_1-error:0.13951\tvalidation_1-logloss:0.30137\n",
      "[106]\tvalidation_0-error:0.13597\tvalidation_0-logloss:0.29481\tvalidation_1-error:0.13938\tvalidation_1-logloss:0.30136\n",
      "[107]\tvalidation_0-error:0.13577\tvalidation_0-logloss:0.29456\tvalidation_1-error:0.13924\tvalidation_1-logloss:0.30123\n",
      "[108]\tvalidation_0-error:0.13547\tvalidation_0-logloss:0.29435\tvalidation_1-error:0.13891\tvalidation_1-logloss:0.30101\n",
      "[109]\tvalidation_0-error:0.13540\tvalidation_0-logloss:0.29415\tvalidation_1-error:0.13864\tvalidation_1-logloss:0.30083\n",
      "[110]\tvalidation_0-error:0.13537\tvalidation_0-logloss:0.29373\tvalidation_1-error:0.13825\tvalidation_1-logloss:0.30034\n",
      "[111]\tvalidation_0-error:0.13537\tvalidation_0-logloss:0.29354\tvalidation_1-error:0.13818\tvalidation_1-logloss:0.30017\n",
      "[112]\tvalidation_0-error:0.13530\tvalidation_0-logloss:0.29331\tvalidation_1-error:0.13858\tvalidation_1-logloss:0.30007\n",
      "[113]\tvalidation_0-error:0.13494\tvalidation_0-logloss:0.29316\tvalidation_1-error:0.13825\tvalidation_1-logloss:0.30004\n",
      "[114]\tvalidation_0-error:0.13517\tvalidation_0-logloss:0.29304\tvalidation_1-error:0.13858\tvalidation_1-logloss:0.30002\n",
      "[115]\tvalidation_0-error:0.13490\tvalidation_0-logloss:0.29286\tvalidation_1-error:0.13825\tvalidation_1-logloss:0.29979\n",
      "[116]\tvalidation_0-error:0.13507\tvalidation_0-logloss:0.29277\tvalidation_1-error:0.13805\tvalidation_1-logloss:0.29979\n",
      "[117]\tvalidation_0-error:0.13500\tvalidation_0-logloss:0.29267\tvalidation_1-error:0.13851\tvalidation_1-logloss:0.29975\n",
      "[118]\tvalidation_0-error:0.13510\tvalidation_0-logloss:0.29248\tvalidation_1-error:0.13884\tvalidation_1-logloss:0.29963\n",
      "[119]\tvalidation_0-error:0.13487\tvalidation_0-logloss:0.29180\tvalidation_1-error:0.13871\tvalidation_1-logloss:0.29889\n",
      "[120]\tvalidation_0-error:0.13441\tvalidation_0-logloss:0.29123\tvalidation_1-error:0.13825\tvalidation_1-logloss:0.29830\n",
      "[121]\tvalidation_0-error:0.13411\tvalidation_0-logloss:0.29112\tvalidation_1-error:0.13818\tvalidation_1-logloss:0.29827\n",
      "[122]\tvalidation_0-error:0.13414\tvalidation_0-logloss:0.29101\tvalidation_1-error:0.13825\tvalidation_1-logloss:0.29822\n",
      "[123]\tvalidation_0-error:0.13421\tvalidation_0-logloss:0.29091\tvalidation_1-error:0.13845\tvalidation_1-logloss:0.29817\n",
      "[124]\tvalidation_0-error:0.13411\tvalidation_0-logloss:0.29084\tvalidation_1-error:0.13838\tvalidation_1-logloss:0.29810\n",
      "[125]\tvalidation_0-error:0.13408\tvalidation_0-logloss:0.29062\tvalidation_1-error:0.13745\tvalidation_1-logloss:0.29800\n",
      "[126]\tvalidation_0-error:0.13378\tvalidation_0-logloss:0.29053\tvalidation_1-error:0.13772\tvalidation_1-logloss:0.29804\n",
      "[127]\tvalidation_0-error:0.13371\tvalidation_0-logloss:0.29027\tvalidation_1-error:0.13752\tvalidation_1-logloss:0.29786\n",
      "[128]\tvalidation_0-error:0.13371\tvalidation_0-logloss:0.29017\tvalidation_1-error:0.13745\tvalidation_1-logloss:0.29779\n",
      "[129]\tvalidation_0-error:0.13355\tvalidation_0-logloss:0.29006\tvalidation_1-error:0.13752\tvalidation_1-logloss:0.29774\n",
      "[130]\tvalidation_0-error:0.13358\tvalidation_0-logloss:0.29001\tvalidation_1-error:0.13745\tvalidation_1-logloss:0.29775\n",
      "[131]\tvalidation_0-error:0.13365\tvalidation_0-logloss:0.28993\tvalidation_1-error:0.13805\tvalidation_1-logloss:0.29776\n",
      "[132]\tvalidation_0-error:0.13361\tvalidation_0-logloss:0.28975\tvalidation_1-error:0.13785\tvalidation_1-logloss:0.29763\n",
      "[133]\tvalidation_0-error:0.13298\tvalidation_0-logloss:0.28965\tvalidation_1-error:0.13805\tvalidation_1-logloss:0.29760\n",
      "[134]\tvalidation_0-error:0.13292\tvalidation_0-logloss:0.28949\tvalidation_1-error:0.13785\tvalidation_1-logloss:0.29754\n",
      "[135]\tvalidation_0-error:0.13248\tvalidation_0-logloss:0.28936\tvalidation_1-error:0.13798\tvalidation_1-logloss:0.29745\n",
      "[136]\tvalidation_0-error:0.13248\tvalidation_0-logloss:0.28928\tvalidation_1-error:0.13792\tvalidation_1-logloss:0.29741\n",
      "[137]\tvalidation_0-error:0.13258\tvalidation_0-logloss:0.28915\tvalidation_1-error:0.13758\tvalidation_1-logloss:0.29728\n",
      "[138]\tvalidation_0-error:0.13262\tvalidation_0-logloss:0.28908\tvalidation_1-error:0.13772\tvalidation_1-logloss:0.29734\n",
      "[139]\tvalidation_0-error:0.13268\tvalidation_0-logloss:0.28899\tvalidation_1-error:0.13798\tvalidation_1-logloss:0.29732\n",
      "[140]\tvalidation_0-error:0.13278\tvalidation_0-logloss:0.28875\tvalidation_1-error:0.13785\tvalidation_1-logloss:0.29705\n",
      "[141]\tvalidation_0-error:0.13252\tvalidation_0-logloss:0.28866\tvalidation_1-error:0.13778\tvalidation_1-logloss:0.29696\n",
      "[142]\tvalidation_0-error:0.13272\tvalidation_0-logloss:0.28859\tvalidation_1-error:0.13752\tvalidation_1-logloss:0.29698\n",
      "[143]\tvalidation_0-error:0.13268\tvalidation_0-logloss:0.28851\tvalidation_1-error:0.13738\tvalidation_1-logloss:0.29690\n",
      "[144]\tvalidation_0-error:0.13272\tvalidation_0-logloss:0.28841\tvalidation_1-error:0.13758\tvalidation_1-logloss:0.29686\n",
      "[145]\tvalidation_0-error:0.13252\tvalidation_0-logloss:0.28833\tvalidation_1-error:0.13758\tvalidation_1-logloss:0.29686\n",
      "[146]\tvalidation_0-error:0.13239\tvalidation_0-logloss:0.28818\tvalidation_1-error:0.13772\tvalidation_1-logloss:0.29677\n",
      "[147]\tvalidation_0-error:0.13229\tvalidation_0-logloss:0.28813\tvalidation_1-error:0.13758\tvalidation_1-logloss:0.29679\n",
      "[148]\tvalidation_0-error:0.13222\tvalidation_0-logloss:0.28801\tvalidation_1-error:0.13725\tvalidation_1-logloss:0.29681\n",
      "[149]\tvalidation_0-error:0.13215\tvalidation_0-logloss:0.28791\tvalidation_1-error:0.13725\tvalidation_1-logloss:0.29675\n",
      "[150]\tvalidation_0-error:0.13185\tvalidation_0-logloss:0.28766\tvalidation_1-error:0.13692\tvalidation_1-logloss:0.29662\n",
      "[151]\tvalidation_0-error:0.13212\tvalidation_0-logloss:0.28761\tvalidation_1-error:0.13692\tvalidation_1-logloss:0.29659\n",
      "[152]\tvalidation_0-error:0.13205\tvalidation_0-logloss:0.28756\tvalidation_1-error:0.13698\tvalidation_1-logloss:0.29659\n",
      "[153]\tvalidation_0-error:0.13242\tvalidation_0-logloss:0.28746\tvalidation_1-error:0.13712\tvalidation_1-logloss:0.29657\n",
      "[154]\tvalidation_0-error:0.13185\tvalidation_0-logloss:0.28734\tvalidation_1-error:0.13672\tvalidation_1-logloss:0.29646\n",
      "[155]\tvalidation_0-error:0.13202\tvalidation_0-logloss:0.28728\tvalidation_1-error:0.13672\tvalidation_1-logloss:0.29643\n",
      "[156]\tvalidation_0-error:0.13215\tvalidation_0-logloss:0.28708\tvalidation_1-error:0.13652\tvalidation_1-logloss:0.29634\n",
      "[157]\tvalidation_0-error:0.13166\tvalidation_0-logloss:0.28689\tvalidation_1-error:0.13672\tvalidation_1-logloss:0.29614\n",
      "[158]\tvalidation_0-error:0.13139\tvalidation_0-logloss:0.28656\tvalidation_1-error:0.13672\tvalidation_1-logloss:0.29583\n",
      "[159]\tvalidation_0-error:0.13176\tvalidation_0-logloss:0.28650\tvalidation_1-error:0.13692\tvalidation_1-logloss:0.29577\n",
      "[160]\tvalidation_0-error:0.13166\tvalidation_0-logloss:0.28643\tvalidation_1-error:0.13712\tvalidation_1-logloss:0.29576\n",
      "[161]\tvalidation_0-error:0.13162\tvalidation_0-logloss:0.28638\tvalidation_1-error:0.13712\tvalidation_1-logloss:0.29578\n",
      "[162]\tvalidation_0-error:0.13126\tvalidation_0-logloss:0.28613\tvalidation_1-error:0.13672\tvalidation_1-logloss:0.29548\n",
      "[163]\tvalidation_0-error:0.13106\tvalidation_0-logloss:0.28600\tvalidation_1-error:0.13632\tvalidation_1-logloss:0.29546\n",
      "[164]\tvalidation_0-error:0.13079\tvalidation_0-logloss:0.28588\tvalidation_1-error:0.13652\tvalidation_1-logloss:0.29541\n",
      "[165]\tvalidation_0-error:0.13076\tvalidation_0-logloss:0.28567\tvalidation_1-error:0.13619\tvalidation_1-logloss:0.29516\n",
      "[166]\tvalidation_0-error:0.13020\tvalidation_0-logloss:0.28551\tvalidation_1-error:0.13639\tvalidation_1-logloss:0.29506\n",
      "[167]\tvalidation_0-error:0.13020\tvalidation_0-logloss:0.28541\tvalidation_1-error:0.13659\tvalidation_1-logloss:0.29506\n",
      "[168]\tvalidation_0-error:0.13023\tvalidation_0-logloss:0.28530\tvalidation_1-error:0.13632\tvalidation_1-logloss:0.29513\n",
      "[169]\tvalidation_0-error:0.13033\tvalidation_0-logloss:0.28519\tvalidation_1-error:0.13619\tvalidation_1-logloss:0.29497\n",
      "[170]\tvalidation_0-error:0.13043\tvalidation_0-logloss:0.28505\tvalidation_1-error:0.13652\tvalidation_1-logloss:0.29485\n",
      "[171]\tvalidation_0-error:0.13003\tvalidation_0-logloss:0.28500\tvalidation_1-error:0.13645\tvalidation_1-logloss:0.29482\n",
      "[172]\tvalidation_0-error:0.12983\tvalidation_0-logloss:0.28494\tvalidation_1-error:0.13672\tvalidation_1-logloss:0.29485\n",
      "[173]\tvalidation_0-error:0.12993\tvalidation_0-logloss:0.28482\tvalidation_1-error:0.13639\tvalidation_1-logloss:0.29478\n",
      "[174]\tvalidation_0-error:0.13010\tvalidation_0-logloss:0.28471\tvalidation_1-error:0.13645\tvalidation_1-logloss:0.29474\n",
      "[175]\tvalidation_0-error:0.13000\tvalidation_0-logloss:0.28464\tvalidation_1-error:0.13685\tvalidation_1-logloss:0.29474\n",
      "[176]\tvalidation_0-error:0.13013\tvalidation_0-logloss:0.28459\tvalidation_1-error:0.13672\tvalidation_1-logloss:0.29477\n",
      "[177]\tvalidation_0-error:0.12983\tvalidation_0-logloss:0.28448\tvalidation_1-error:0.13625\tvalidation_1-logloss:0.29465\n",
      "[178]\tvalidation_0-error:0.13003\tvalidation_0-logloss:0.28441\tvalidation_1-error:0.13625\tvalidation_1-logloss:0.29459\n",
      "[179]\tvalidation_0-error:0.13006\tvalidation_0-logloss:0.28435\tvalidation_1-error:0.13619\tvalidation_1-logloss:0.29464\n",
      "[180]\tvalidation_0-error:0.13003\tvalidation_0-logloss:0.28429\tvalidation_1-error:0.13619\tvalidation_1-logloss:0.29460\n",
      "[181]\tvalidation_0-error:0.13000\tvalidation_0-logloss:0.28418\tvalidation_1-error:0.13679\tvalidation_1-logloss:0.29453\n",
      "[182]\tvalidation_0-error:0.13036\tvalidation_0-logloss:0.28409\tvalidation_1-error:0.13619\tvalidation_1-logloss:0.29447\n",
      "[183]\tvalidation_0-error:0.13003\tvalidation_0-logloss:0.28397\tvalidation_1-error:0.13659\tvalidation_1-logloss:0.29444\n",
      "[184]\tvalidation_0-error:0.12996\tvalidation_0-logloss:0.28390\tvalidation_1-error:0.13625\tvalidation_1-logloss:0.29439\n",
      "[185]\tvalidation_0-error:0.12967\tvalidation_0-logloss:0.28362\tvalidation_1-error:0.13592\tvalidation_1-logloss:0.29412\n",
      "[186]\tvalidation_0-error:0.12950\tvalidation_0-logloss:0.28349\tvalidation_1-error:0.13566\tvalidation_1-logloss:0.29407\n",
      "[187]\tvalidation_0-error:0.12937\tvalidation_0-logloss:0.28332\tvalidation_1-error:0.13599\tvalidation_1-logloss:0.29401\n",
      "[188]\tvalidation_0-error:0.12953\tvalidation_0-logloss:0.28322\tvalidation_1-error:0.13586\tvalidation_1-logloss:0.29400\n",
      "[189]\tvalidation_0-error:0.12934\tvalidation_0-logloss:0.28306\tvalidation_1-error:0.13553\tvalidation_1-logloss:0.29391\n",
      "[190]\tvalidation_0-error:0.12930\tvalidation_0-logloss:0.28303\tvalidation_1-error:0.13566\tvalidation_1-logloss:0.29393\n",
      "[191]\tvalidation_0-error:0.12871\tvalidation_0-logloss:0.28295\tvalidation_1-error:0.13572\tvalidation_1-logloss:0.29399\n",
      "[192]\tvalidation_0-error:0.12857\tvalidation_0-logloss:0.28287\tvalidation_1-error:0.13606\tvalidation_1-logloss:0.29396\n",
      "[193]\tvalidation_0-error:0.12841\tvalidation_0-logloss:0.28274\tvalidation_1-error:0.13579\tvalidation_1-logloss:0.29387\n",
      "[194]\tvalidation_0-error:0.12844\tvalidation_0-logloss:0.28260\tvalidation_1-error:0.13566\tvalidation_1-logloss:0.29376\n",
      "[195]\tvalidation_0-error:0.12851\tvalidation_0-logloss:0.28245\tvalidation_1-error:0.13559\tvalidation_1-logloss:0.29369\n",
      "[196]\tvalidation_0-error:0.12831\tvalidation_0-logloss:0.28236\tvalidation_1-error:0.13526\tvalidation_1-logloss:0.29375\n",
      "[197]\tvalidation_0-error:0.12811\tvalidation_0-logloss:0.28230\tvalidation_1-error:0.13559\tvalidation_1-logloss:0.29374\n",
      "[198]\tvalidation_0-error:0.12784\tvalidation_0-logloss:0.28225\tvalidation_1-error:0.13579\tvalidation_1-logloss:0.29379\n",
      "[199]\tvalidation_0-error:0.12804\tvalidation_0-logloss:0.28216\tvalidation_1-error:0.13579\tvalidation_1-logloss:0.29379\n",
      "[200]\tvalidation_0-error:0.12768\tvalidation_0-logloss:0.28180\tvalidation_1-error:0.13572\tvalidation_1-logloss:0.29339\n",
      "[201]\tvalidation_0-error:0.12761\tvalidation_0-logloss:0.28158\tvalidation_1-error:0.13559\tvalidation_1-logloss:0.29321\n",
      "[202]\tvalidation_0-error:0.12754\tvalidation_0-logloss:0.28148\tvalidation_1-error:0.13513\tvalidation_1-logloss:0.29322\n",
      "[203]\tvalidation_0-error:0.12758\tvalidation_0-logloss:0.28141\tvalidation_1-error:0.13533\tvalidation_1-logloss:0.29324\n",
      "[204]\tvalidation_0-error:0.12735\tvalidation_0-logloss:0.28117\tvalidation_1-error:0.13513\tvalidation_1-logloss:0.29301\n",
      "[205]\tvalidation_0-error:0.12731\tvalidation_0-logloss:0.28102\tvalidation_1-error:0.13513\tvalidation_1-logloss:0.29291\n",
      "[206]\tvalidation_0-error:0.12751\tvalidation_0-logloss:0.28094\tvalidation_1-error:0.13473\tvalidation_1-logloss:0.29297\n",
      "[207]\tvalidation_0-error:0.12735\tvalidation_0-logloss:0.28086\tvalidation_1-error:0.13459\tvalidation_1-logloss:0.29291\n",
      "[208]\tvalidation_0-error:0.12745\tvalidation_0-logloss:0.28080\tvalidation_1-error:0.13506\tvalidation_1-logloss:0.29291\n",
      "[209]\tvalidation_0-error:0.12718\tvalidation_0-logloss:0.28061\tvalidation_1-error:0.13499\tvalidation_1-logloss:0.29273\n",
      "[210]\tvalidation_0-error:0.12708\tvalidation_0-logloss:0.28056\tvalidation_1-error:0.13533\tvalidation_1-logloss:0.29281\n",
      "[211]\tvalidation_0-error:0.12698\tvalidation_0-logloss:0.28046\tvalidation_1-error:0.13493\tvalidation_1-logloss:0.29282\n",
      "[212]\tvalidation_0-error:0.12748\tvalidation_0-logloss:0.28041\tvalidation_1-error:0.13513\tvalidation_1-logloss:0.29282\n",
      "[213]\tvalidation_0-error:0.12715\tvalidation_0-logloss:0.28036\tvalidation_1-error:0.13499\tvalidation_1-logloss:0.29281\n",
      "[214]\tvalidation_0-error:0.12721\tvalidation_0-logloss:0.28028\tvalidation_1-error:0.13493\tvalidation_1-logloss:0.29273\n",
      "[215]\tvalidation_0-error:0.12715\tvalidation_0-logloss:0.28022\tvalidation_1-error:0.13539\tvalidation_1-logloss:0.29267\n",
      "[216]\tvalidation_0-error:0.12705\tvalidation_0-logloss:0.28016\tvalidation_1-error:0.13499\tvalidation_1-logloss:0.29276\n",
      "[217]\tvalidation_0-error:0.12701\tvalidation_0-logloss:0.28002\tvalidation_1-error:0.13499\tvalidation_1-logloss:0.29255\n",
      "[218]\tvalidation_0-error:0.12701\tvalidation_0-logloss:0.27992\tvalidation_1-error:0.13499\tvalidation_1-logloss:0.29248\n",
      "[219]\tvalidation_0-error:0.12685\tvalidation_0-logloss:0.27984\tvalidation_1-error:0.13486\tvalidation_1-logloss:0.29245\n",
      "[220]\tvalidation_0-error:0.12672\tvalidation_0-logloss:0.27979\tvalidation_1-error:0.13566\tvalidation_1-logloss:0.29246\n",
      "[221]\tvalidation_0-error:0.12685\tvalidation_0-logloss:0.27970\tvalidation_1-error:0.13553\tvalidation_1-logloss:0.29253\n",
      "[222]\tvalidation_0-error:0.12678\tvalidation_0-logloss:0.27960\tvalidation_1-error:0.13526\tvalidation_1-logloss:0.29252\n",
      "[223]\tvalidation_0-error:0.12638\tvalidation_0-logloss:0.27949\tvalidation_1-error:0.13493\tvalidation_1-logloss:0.29249\n",
      "[224]\tvalidation_0-error:0.12638\tvalidation_0-logloss:0.27941\tvalidation_1-error:0.13572\tvalidation_1-logloss:0.29243\n",
      "[225]\tvalidation_0-error:0.12645\tvalidation_0-logloss:0.27934\tvalidation_1-error:0.13526\tvalidation_1-logloss:0.29238\n",
      "[226]\tvalidation_0-error:0.12615\tvalidation_0-logloss:0.27926\tvalidation_1-error:0.13513\tvalidation_1-logloss:0.29241\n",
      "[227]\tvalidation_0-error:0.12622\tvalidation_0-logloss:0.27910\tvalidation_1-error:0.13499\tvalidation_1-logloss:0.29236\n",
      "[228]\tvalidation_0-error:0.12612\tvalidation_0-logloss:0.27903\tvalidation_1-error:0.13533\tvalidation_1-logloss:0.29240\n",
      "[229]\tvalidation_0-error:0.12605\tvalidation_0-logloss:0.27895\tvalidation_1-error:0.13499\tvalidation_1-logloss:0.29240\n",
      "[230]\tvalidation_0-error:0.12618\tvalidation_0-logloss:0.27886\tvalidation_1-error:0.13499\tvalidation_1-logloss:0.29230\n",
      "[231]\tvalidation_0-error:0.12635\tvalidation_0-logloss:0.27878\tvalidation_1-error:0.13493\tvalidation_1-logloss:0.29224\n",
      "[232]\tvalidation_0-error:0.12615\tvalidation_0-logloss:0.27860\tvalidation_1-error:0.13486\tvalidation_1-logloss:0.29206\n",
      "[233]\tvalidation_0-error:0.12599\tvalidation_0-logloss:0.27853\tvalidation_1-error:0.13466\tvalidation_1-logloss:0.29210\n",
      "[234]\tvalidation_0-error:0.12609\tvalidation_0-logloss:0.27849\tvalidation_1-error:0.13479\tvalidation_1-logloss:0.29209\n",
      "[235]\tvalidation_0-error:0.12585\tvalidation_0-logloss:0.27837\tvalidation_1-error:0.13466\tvalidation_1-logloss:0.29219\n",
      "[236]\tvalidation_0-error:0.12589\tvalidation_0-logloss:0.27830\tvalidation_1-error:0.13499\tvalidation_1-logloss:0.29226\n",
      "[237]\tvalidation_0-error:0.12562\tvalidation_0-logloss:0.27820\tvalidation_1-error:0.13499\tvalidation_1-logloss:0.29227\n",
      "[238]\tvalidation_0-error:0.12589\tvalidation_0-logloss:0.27814\tvalidation_1-error:0.13459\tvalidation_1-logloss:0.29218\n",
      "[239]\tvalidation_0-error:0.12572\tvalidation_0-logloss:0.27805\tvalidation_1-error:0.13420\tvalidation_1-logloss:0.29219\n",
      "[240]\tvalidation_0-error:0.12552\tvalidation_0-logloss:0.27801\tvalidation_1-error:0.13413\tvalidation_1-logloss:0.29222\n",
      "[241]\tvalidation_0-error:0.12569\tvalidation_0-logloss:0.27794\tvalidation_1-error:0.13446\tvalidation_1-logloss:0.29225\n",
      "[242]\tvalidation_0-error:0.12555\tvalidation_0-logloss:0.27786\tvalidation_1-error:0.13426\tvalidation_1-logloss:0.29238\n",
      "[243]\tvalidation_0-error:0.12565\tvalidation_0-logloss:0.27784\tvalidation_1-error:0.13466\tvalidation_1-logloss:0.29238\n",
      "[244]\tvalidation_0-error:0.12559\tvalidation_0-logloss:0.27767\tvalidation_1-error:0.13459\tvalidation_1-logloss:0.29218\n",
      "[245]\tvalidation_0-error:0.12572\tvalidation_0-logloss:0.27763\tvalidation_1-error:0.13473\tvalidation_1-logloss:0.29222\n",
      "[246]\tvalidation_0-error:0.12605\tvalidation_0-logloss:0.27756\tvalidation_1-error:0.13479\tvalidation_1-logloss:0.29218\n",
      "[247]\tvalidation_0-error:0.12592\tvalidation_0-logloss:0.27752\tvalidation_1-error:0.13459\tvalidation_1-logloss:0.29211\n"
     ]
    },
    {
     "data": {
      "text/plain": [
       "XGBClassifier(base_score=0.5, booster='gbtree', colsample_bylevel=1,\n",
       "              colsample_bynode=1, colsample_bytree=1, enable_categorical=False,\n",
       "              gamma=0, gpu_id=-1, importance_type=None,\n",
       "              interaction_constraints='', learning_rate=0.1, max_delta_step=0,\n",
       "              max_depth=3, min_child_weight=1, missing=nan,\n",
       "              monotone_constraints='()', n_estimators=300, n_jobs=32,\n",
       "              num_parallel_tree=1, predictor='auto', random_state=0,\n",
       "              reg_alpha=0, reg_lambda=1, scale_pos_weight=1, subsample=0.33,\n",
       "              tree_method='exact', validate_parameters=1, verbosity=None)"
      ]
     },
     "execution_count": 30,
     "metadata": {},
     "output_type": "execute_result"
    }
   ],
   "source": [
    "eval_set = [(final_train, y_train), (final_test, y_test)]\n",
    "optimized_GBM.fit(final_train, y_train.values.ravel(), early_stopping_rounds=15, eval_metric=[\"error\", \"logloss\"], eval_set=eval_set, verbose=True)\n",
    "#optimized_GBM.fit(final_train, y_train, verbose=True)"
   ]
  },
  {
   "cell_type": "code",
   "execution_count": 31,
   "metadata": {},
   "outputs": [],
   "source": [
    "#optimized_GBM.cv_results_"
   ]
  },
  {
   "cell_type": "markdown",
   "metadata": {},
   "source": [
    "### Second model\n",
    "Tuning other hyperparameters in an attempt to achieve higher mean accuracy"
   ]
  },
  {
   "cell_type": "code",
   "execution_count": 32,
   "metadata": {},
   "outputs": [
    {
     "name": "stdout",
     "output_type": "stream",
     "text": [
      "[0]\tvalidation_0-error:0.14956\tvalidation_0-logloss:0.68747\tvalidation_1-error:0.15292\tvalidation_1-logloss:0.68749\n",
      "[1]\tvalidation_0-error:0.14939\tvalidation_0-logloss:0.68197\tvalidation_1-error:0.15179\tvalidation_1-logloss:0.68202\n",
      "[2]\tvalidation_0-error:0.14969\tvalidation_0-logloss:0.67652\tvalidation_1-error:0.15193\tvalidation_1-logloss:0.67659\n",
      "[3]\tvalidation_0-error:0.14903\tvalidation_0-logloss:0.67124\tvalidation_1-error:0.15119\tvalidation_1-logloss:0.67134\n",
      "[4]\tvalidation_0-error:0.14919\tvalidation_0-logloss:0.66601\tvalidation_1-error:0.15119\tvalidation_1-logloss:0.66612\n",
      "[5]\tvalidation_0-error:0.14883\tvalidation_0-logloss:0.66086\tvalidation_1-error:0.15086\tvalidation_1-logloss:0.66100\n",
      "[6]\tvalidation_0-error:0.14870\tvalidation_0-logloss:0.65583\tvalidation_1-error:0.15093\tvalidation_1-logloss:0.65598\n",
      "[7]\tvalidation_0-error:0.14899\tvalidation_0-logloss:0.65085\tvalidation_1-error:0.15100\tvalidation_1-logloss:0.65102\n",
      "[8]\tvalidation_0-error:0.14896\tvalidation_0-logloss:0.64602\tvalidation_1-error:0.15080\tvalidation_1-logloss:0.64623\n",
      "[9]\tvalidation_0-error:0.14899\tvalidation_0-logloss:0.64124\tvalidation_1-error:0.15100\tvalidation_1-logloss:0.64146\n",
      "[10]\tvalidation_0-error:0.14896\tvalidation_0-logloss:0.63657\tvalidation_1-error:0.15080\tvalidation_1-logloss:0.63683\n",
      "[11]\tvalidation_0-error:0.14876\tvalidation_0-logloss:0.63199\tvalidation_1-error:0.15080\tvalidation_1-logloss:0.63226\n",
      "[12]\tvalidation_0-error:0.14880\tvalidation_0-logloss:0.62748\tvalidation_1-error:0.15080\tvalidation_1-logloss:0.62777\n",
      "[13]\tvalidation_0-error:0.14880\tvalidation_0-logloss:0.62308\tvalidation_1-error:0.15080\tvalidation_1-logloss:0.62339\n",
      "[14]\tvalidation_0-error:0.14880\tvalidation_0-logloss:0.61874\tvalidation_1-error:0.15100\tvalidation_1-logloss:0.61908\n",
      "[15]\tvalidation_0-error:0.14903\tvalidation_0-logloss:0.61446\tvalidation_1-error:0.15106\tvalidation_1-logloss:0.61481\n",
      "[16]\tvalidation_0-error:0.14919\tvalidation_0-logloss:0.61028\tvalidation_1-error:0.15113\tvalidation_1-logloss:0.61065\n",
      "[17]\tvalidation_0-error:0.14919\tvalidation_0-logloss:0.60618\tvalidation_1-error:0.15113\tvalidation_1-logloss:0.60659\n",
      "[18]\tvalidation_0-error:0.14916\tvalidation_0-logloss:0.60214\tvalidation_1-error:0.15113\tvalidation_1-logloss:0.60256\n",
      "[19]\tvalidation_0-error:0.14919\tvalidation_0-logloss:0.59816\tvalidation_1-error:0.15113\tvalidation_1-logloss:0.59859\n",
      "[20]\tvalidation_0-error:0.14919\tvalidation_0-logloss:0.59424\tvalidation_1-error:0.15113\tvalidation_1-logloss:0.59469\n",
      "[21]\tvalidation_0-error:0.14899\tvalidation_0-logloss:0.59039\tvalidation_1-error:0.15106\tvalidation_1-logloss:0.59085\n",
      "[22]\tvalidation_0-error:0.14903\tvalidation_0-logloss:0.58662\tvalidation_1-error:0.15106\tvalidation_1-logloss:0.58711\n",
      "[23]\tvalidation_0-error:0.14903\tvalidation_0-logloss:0.58290\tvalidation_1-error:0.15106\tvalidation_1-logloss:0.58342\n",
      "[24]\tvalidation_0-error:0.14903\tvalidation_0-logloss:0.57928\tvalidation_1-error:0.15106\tvalidation_1-logloss:0.57981\n",
      "[25]\tvalidation_0-error:0.14903\tvalidation_0-logloss:0.57566\tvalidation_1-error:0.15106\tvalidation_1-logloss:0.57624\n",
      "[26]\tvalidation_0-error:0.14903\tvalidation_0-logloss:0.57212\tvalidation_1-error:0.15106\tvalidation_1-logloss:0.57270\n",
      "[27]\tvalidation_0-error:0.14903\tvalidation_0-logloss:0.56865\tvalidation_1-error:0.15106\tvalidation_1-logloss:0.56927\n",
      "[28]\tvalidation_0-error:0.14903\tvalidation_0-logloss:0.56523\tvalidation_1-error:0.15106\tvalidation_1-logloss:0.56587\n",
      "[29]\tvalidation_0-error:0.14903\tvalidation_0-logloss:0.56186\tvalidation_1-error:0.15106\tvalidation_1-logloss:0.56253\n",
      "[30]\tvalidation_0-error:0.14903\tvalidation_0-logloss:0.55857\tvalidation_1-error:0.15106\tvalidation_1-logloss:0.55928\n",
      "[31]\tvalidation_0-error:0.14913\tvalidation_0-logloss:0.55530\tvalidation_1-error:0.15106\tvalidation_1-logloss:0.55605\n",
      "[32]\tvalidation_0-error:0.14913\tvalidation_0-logloss:0.55211\tvalidation_1-error:0.15106\tvalidation_1-logloss:0.55287\n",
      "[33]\tvalidation_0-error:0.14916\tvalidation_0-logloss:0.54897\tvalidation_1-error:0.15106\tvalidation_1-logloss:0.54976\n",
      "[34]\tvalidation_0-error:0.14913\tvalidation_0-logloss:0.54589\tvalidation_1-error:0.15106\tvalidation_1-logloss:0.54671\n",
      "[35]\tvalidation_0-error:0.14913\tvalidation_0-logloss:0.54285\tvalidation_1-error:0.15106\tvalidation_1-logloss:0.54371\n",
      "[36]\tvalidation_0-error:0.14913\tvalidation_0-logloss:0.53982\tvalidation_1-error:0.15106\tvalidation_1-logloss:0.54070\n",
      "[37]\tvalidation_0-error:0.14903\tvalidation_0-logloss:0.53690\tvalidation_1-error:0.15106\tvalidation_1-logloss:0.53778\n",
      "[38]\tvalidation_0-error:0.14903\tvalidation_0-logloss:0.53397\tvalidation_1-error:0.15106\tvalidation_1-logloss:0.53486\n",
      "[39]\tvalidation_0-error:0.14903\tvalidation_0-logloss:0.53112\tvalidation_1-error:0.15106\tvalidation_1-logloss:0.53202\n",
      "[40]\tvalidation_0-error:0.14903\tvalidation_0-logloss:0.52827\tvalidation_1-error:0.15106\tvalidation_1-logloss:0.52918\n",
      "[41]\tvalidation_0-error:0.14903\tvalidation_0-logloss:0.52551\tvalidation_1-error:0.15106\tvalidation_1-logloss:0.52645\n",
      "[42]\tvalidation_0-error:0.14903\tvalidation_0-logloss:0.52275\tvalidation_1-error:0.15106\tvalidation_1-logloss:0.52373\n",
      "[43]\tvalidation_0-error:0.14903\tvalidation_0-logloss:0.52003\tvalidation_1-error:0.15106\tvalidation_1-logloss:0.52102\n",
      "[44]\tvalidation_0-error:0.14903\tvalidation_0-logloss:0.51736\tvalidation_1-error:0.15106\tvalidation_1-logloss:0.51839\n",
      "[45]\tvalidation_0-error:0.14903\tvalidation_0-logloss:0.51476\tvalidation_1-error:0.15106\tvalidation_1-logloss:0.51580\n",
      "[46]\tvalidation_0-error:0.14903\tvalidation_0-logloss:0.51216\tvalidation_1-error:0.15106\tvalidation_1-logloss:0.51322\n",
      "[47]\tvalidation_0-error:0.14896\tvalidation_0-logloss:0.50963\tvalidation_1-error:0.15119\tvalidation_1-logloss:0.51070\n",
      "[48]\tvalidation_0-error:0.14899\tvalidation_0-logloss:0.50711\tvalidation_1-error:0.15106\tvalidation_1-logloss:0.50820\n",
      "[49]\tvalidation_0-error:0.14899\tvalidation_0-logloss:0.50464\tvalidation_1-error:0.15106\tvalidation_1-logloss:0.50574\n",
      "[50]\tvalidation_0-error:0.14903\tvalidation_0-logloss:0.50220\tvalidation_1-error:0.15119\tvalidation_1-logloss:0.50333\n",
      "[51]\tvalidation_0-error:0.14896\tvalidation_0-logloss:0.49981\tvalidation_1-error:0.15119\tvalidation_1-logloss:0.50096\n",
      "[52]\tvalidation_0-error:0.14903\tvalidation_0-logloss:0.49745\tvalidation_1-error:0.15119\tvalidation_1-logloss:0.49863\n",
      "[53]\tvalidation_0-error:0.14903\tvalidation_0-logloss:0.49511\tvalidation_1-error:0.15119\tvalidation_1-logloss:0.49629\n",
      "[54]\tvalidation_0-error:0.14883\tvalidation_0-logloss:0.49284\tvalidation_1-error:0.15086\tvalidation_1-logloss:0.49405\n",
      "[55]\tvalidation_0-error:0.14886\tvalidation_0-logloss:0.49059\tvalidation_1-error:0.15073\tvalidation_1-logloss:0.49183\n",
      "[56]\tvalidation_0-error:0.14883\tvalidation_0-logloss:0.48834\tvalidation_1-error:0.15073\tvalidation_1-logloss:0.48959\n",
      "[57]\tvalidation_0-error:0.14880\tvalidation_0-logloss:0.48614\tvalidation_1-error:0.15086\tvalidation_1-logloss:0.48742\n",
      "[58]\tvalidation_0-error:0.14873\tvalidation_0-logloss:0.48393\tvalidation_1-error:0.15086\tvalidation_1-logloss:0.48522\n",
      "[59]\tvalidation_0-error:0.14880\tvalidation_0-logloss:0.48179\tvalidation_1-error:0.15086\tvalidation_1-logloss:0.48309\n",
      "[60]\tvalidation_0-error:0.14876\tvalidation_0-logloss:0.47967\tvalidation_1-error:0.15086\tvalidation_1-logloss:0.48098\n",
      "[61]\tvalidation_0-error:0.14870\tvalidation_0-logloss:0.47759\tvalidation_1-error:0.15086\tvalidation_1-logloss:0.47892\n",
      "[62]\tvalidation_0-error:0.14870\tvalidation_0-logloss:0.47552\tvalidation_1-error:0.15086\tvalidation_1-logloss:0.47685\n",
      "[63]\tvalidation_0-error:0.14873\tvalidation_0-logloss:0.47351\tvalidation_1-error:0.15086\tvalidation_1-logloss:0.47484\n",
      "[64]\tvalidation_0-error:0.14873\tvalidation_0-logloss:0.47151\tvalidation_1-error:0.15086\tvalidation_1-logloss:0.47286\n",
      "[65]\tvalidation_0-error:0.14863\tvalidation_0-logloss:0.46951\tvalidation_1-error:0.15080\tvalidation_1-logloss:0.47087\n",
      "[66]\tvalidation_0-error:0.14863\tvalidation_0-logloss:0.46758\tvalidation_1-error:0.15080\tvalidation_1-logloss:0.46896\n",
      "[67]\tvalidation_0-error:0.14860\tvalidation_0-logloss:0.46565\tvalidation_1-error:0.15073\tvalidation_1-logloss:0.46703\n",
      "[68]\tvalidation_0-error:0.14863\tvalidation_0-logloss:0.46376\tvalidation_1-error:0.15073\tvalidation_1-logloss:0.46516\n",
      "[69]\tvalidation_0-error:0.14860\tvalidation_0-logloss:0.46190\tvalidation_1-error:0.15073\tvalidation_1-logloss:0.46332\n",
      "[70]\tvalidation_0-error:0.14860\tvalidation_0-logloss:0.46006\tvalidation_1-error:0.15080\tvalidation_1-logloss:0.46150\n",
      "[71]\tvalidation_0-error:0.14863\tvalidation_0-logloss:0.45825\tvalidation_1-error:0.15080\tvalidation_1-logloss:0.45970\n",
      "[72]\tvalidation_0-error:0.14863\tvalidation_0-logloss:0.45646\tvalidation_1-error:0.15066\tvalidation_1-logloss:0.45792\n",
      "[73]\tvalidation_0-error:0.14860\tvalidation_0-logloss:0.45470\tvalidation_1-error:0.15060\tvalidation_1-logloss:0.45617\n",
      "[74]\tvalidation_0-error:0.14856\tvalidation_0-logloss:0.45295\tvalidation_1-error:0.15060\tvalidation_1-logloss:0.45443\n",
      "[75]\tvalidation_0-error:0.14853\tvalidation_0-logloss:0.45124\tvalidation_1-error:0.15046\tvalidation_1-logloss:0.45273\n",
      "[76]\tvalidation_0-error:0.14853\tvalidation_0-logloss:0.44956\tvalidation_1-error:0.15046\tvalidation_1-logloss:0.45109\n",
      "[77]\tvalidation_0-error:0.14853\tvalidation_0-logloss:0.44791\tvalidation_1-error:0.15046\tvalidation_1-logloss:0.44947\n",
      "[78]\tvalidation_0-error:0.14853\tvalidation_0-logloss:0.44625\tvalidation_1-error:0.15046\tvalidation_1-logloss:0.44782\n",
      "[79]\tvalidation_0-error:0.14853\tvalidation_0-logloss:0.44464\tvalidation_1-error:0.15046\tvalidation_1-logloss:0.44622\n",
      "[80]\tvalidation_0-error:0.14853\tvalidation_0-logloss:0.44302\tvalidation_1-error:0.15060\tvalidation_1-logloss:0.44462\n",
      "[81]\tvalidation_0-error:0.14853\tvalidation_0-logloss:0.44143\tvalidation_1-error:0.15060\tvalidation_1-logloss:0.44304\n",
      "[82]\tvalidation_0-error:0.14853\tvalidation_0-logloss:0.43985\tvalidation_1-error:0.15060\tvalidation_1-logloss:0.44146\n",
      "[83]\tvalidation_0-error:0.14853\tvalidation_0-logloss:0.43832\tvalidation_1-error:0.15060\tvalidation_1-logloss:0.43995\n",
      "[84]\tvalidation_0-error:0.14840\tvalidation_0-logloss:0.43678\tvalidation_1-error:0.15053\tvalidation_1-logloss:0.43843\n",
      "[85]\tvalidation_0-error:0.14847\tvalidation_0-logloss:0.43531\tvalidation_1-error:0.15053\tvalidation_1-logloss:0.43695\n",
      "[86]\tvalidation_0-error:0.14836\tvalidation_0-logloss:0.43384\tvalidation_1-error:0.15040\tvalidation_1-logloss:0.43550\n",
      "[87]\tvalidation_0-error:0.14836\tvalidation_0-logloss:0.43238\tvalidation_1-error:0.15040\tvalidation_1-logloss:0.43404\n",
      "[88]\tvalidation_0-error:0.14836\tvalidation_0-logloss:0.43097\tvalidation_1-error:0.15040\tvalidation_1-logloss:0.43264\n",
      "[89]\tvalidation_0-error:0.14830\tvalidation_0-logloss:0.42953\tvalidation_1-error:0.15040\tvalidation_1-logloss:0.43121\n",
      "[90]\tvalidation_0-error:0.14830\tvalidation_0-logloss:0.42809\tvalidation_1-error:0.15040\tvalidation_1-logloss:0.42979\n",
      "[91]\tvalidation_0-error:0.14823\tvalidation_0-logloss:0.42671\tvalidation_1-error:0.15040\tvalidation_1-logloss:0.42844\n",
      "[92]\tvalidation_0-error:0.14820\tvalidation_0-logloss:0.42531\tvalidation_1-error:0.15033\tvalidation_1-logloss:0.42705\n",
      "[93]\tvalidation_0-error:0.14820\tvalidation_0-logloss:0.42397\tvalidation_1-error:0.15033\tvalidation_1-logloss:0.42573\n",
      "[94]\tvalidation_0-error:0.14820\tvalidation_0-logloss:0.42268\tvalidation_1-error:0.15040\tvalidation_1-logloss:0.42445\n",
      "[95]\tvalidation_0-error:0.14820\tvalidation_0-logloss:0.42139\tvalidation_1-error:0.15040\tvalidation_1-logloss:0.42319\n",
      "[96]\tvalidation_0-error:0.14820\tvalidation_0-logloss:0.42008\tvalidation_1-error:0.15040\tvalidation_1-logloss:0.42188\n",
      "[97]\tvalidation_0-error:0.14820\tvalidation_0-logloss:0.41878\tvalidation_1-error:0.15033\tvalidation_1-logloss:0.42057\n",
      "[98]\tvalidation_0-error:0.14820\tvalidation_0-logloss:0.41752\tvalidation_1-error:0.15033\tvalidation_1-logloss:0.41933\n",
      "[99]\tvalidation_0-error:0.14820\tvalidation_0-logloss:0.41629\tvalidation_1-error:0.15033\tvalidation_1-logloss:0.41812\n",
      "[100]\tvalidation_0-error:0.14820\tvalidation_0-logloss:0.41505\tvalidation_1-error:0.15033\tvalidation_1-logloss:0.41689\n",
      "[101]\tvalidation_0-error:0.14820\tvalidation_0-logloss:0.41385\tvalidation_1-error:0.15033\tvalidation_1-logloss:0.41570\n",
      "[102]\tvalidation_0-error:0.14813\tvalidation_0-logloss:0.41263\tvalidation_1-error:0.15013\tvalidation_1-logloss:0.41449\n",
      "[103]\tvalidation_0-error:0.14807\tvalidation_0-logloss:0.41142\tvalidation_1-error:0.15007\tvalidation_1-logloss:0.41332\n",
      "[104]\tvalidation_0-error:0.14810\tvalidation_0-logloss:0.41028\tvalidation_1-error:0.15007\tvalidation_1-logloss:0.41221\n",
      "[105]\tvalidation_0-error:0.14810\tvalidation_0-logloss:0.40912\tvalidation_1-error:0.15007\tvalidation_1-logloss:0.41106\n",
      "[106]\tvalidation_0-error:0.14813\tvalidation_0-logloss:0.40800\tvalidation_1-error:0.15007\tvalidation_1-logloss:0.40995\n",
      "[107]\tvalidation_0-error:0.14810\tvalidation_0-logloss:0.40690\tvalidation_1-error:0.15020\tvalidation_1-logloss:0.40887\n",
      "[108]\tvalidation_0-error:0.14810\tvalidation_0-logloss:0.40577\tvalidation_1-error:0.15020\tvalidation_1-logloss:0.40775\n",
      "[109]\tvalidation_0-error:0.14800\tvalidation_0-logloss:0.40470\tvalidation_1-error:0.15013\tvalidation_1-logloss:0.40672\n",
      "[110]\tvalidation_0-error:0.14800\tvalidation_0-logloss:0.40361\tvalidation_1-error:0.15013\tvalidation_1-logloss:0.40564\n",
      "[111]\tvalidation_0-error:0.14803\tvalidation_0-logloss:0.40252\tvalidation_1-error:0.15013\tvalidation_1-logloss:0.40456\n",
      "[112]\tvalidation_0-error:0.14800\tvalidation_0-logloss:0.40148\tvalidation_1-error:0.15020\tvalidation_1-logloss:0.40352\n",
      "[113]\tvalidation_0-error:0.14803\tvalidation_0-logloss:0.40046\tvalidation_1-error:0.15020\tvalidation_1-logloss:0.40254\n",
      "[114]\tvalidation_0-error:0.14807\tvalidation_0-logloss:0.39942\tvalidation_1-error:0.15013\tvalidation_1-logloss:0.40151\n",
      "[115]\tvalidation_0-error:0.14807\tvalidation_0-logloss:0.39842\tvalidation_1-error:0.15020\tvalidation_1-logloss:0.40053\n",
      "[116]\tvalidation_0-error:0.14797\tvalidation_0-logloss:0.39743\tvalidation_1-error:0.15020\tvalidation_1-logloss:0.39956\n",
      "[117]\tvalidation_0-error:0.14800\tvalidation_0-logloss:0.39645\tvalidation_1-error:0.15027\tvalidation_1-logloss:0.39861\n",
      "[118]\tvalidation_0-error:0.14797\tvalidation_0-logloss:0.39548\tvalidation_1-error:0.15027\tvalidation_1-logloss:0.39765\n",
      "[119]\tvalidation_0-error:0.14793\tvalidation_0-logloss:0.39449\tvalidation_1-error:0.15027\tvalidation_1-logloss:0.39668\n",
      "[120]\tvalidation_0-error:0.14797\tvalidation_0-logloss:0.39355\tvalidation_1-error:0.15027\tvalidation_1-logloss:0.39577\n",
      "[121]\tvalidation_0-error:0.14797\tvalidation_0-logloss:0.39261\tvalidation_1-error:0.15027\tvalidation_1-logloss:0.39487\n",
      "[122]\tvalidation_0-error:0.14797\tvalidation_0-logloss:0.39169\tvalidation_1-error:0.15027\tvalidation_1-logloss:0.39397\n",
      "[123]\tvalidation_0-error:0.14797\tvalidation_0-logloss:0.39078\tvalidation_1-error:0.15033\tvalidation_1-logloss:0.39308\n",
      "[124]\tvalidation_0-error:0.14790\tvalidation_0-logloss:0.38988\tvalidation_1-error:0.15033\tvalidation_1-logloss:0.39221\n",
      "[125]\tvalidation_0-error:0.14790\tvalidation_0-logloss:0.38899\tvalidation_1-error:0.15033\tvalidation_1-logloss:0.39134\n",
      "[126]\tvalidation_0-error:0.14790\tvalidation_0-logloss:0.38810\tvalidation_1-error:0.15020\tvalidation_1-logloss:0.39047\n",
      "[127]\tvalidation_0-error:0.14793\tvalidation_0-logloss:0.38724\tvalidation_1-error:0.15020\tvalidation_1-logloss:0.38962\n",
      "[128]\tvalidation_0-error:0.14790\tvalidation_0-logloss:0.38638\tvalidation_1-error:0.15020\tvalidation_1-logloss:0.38878\n",
      "[129]\tvalidation_0-error:0.14787\tvalidation_0-logloss:0.38554\tvalidation_1-error:0.15013\tvalidation_1-logloss:0.38794\n",
      "[130]\tvalidation_0-error:0.14783\tvalidation_0-logloss:0.38470\tvalidation_1-error:0.15020\tvalidation_1-logloss:0.38712\n",
      "[131]\tvalidation_0-error:0.14783\tvalidation_0-logloss:0.38386\tvalidation_1-error:0.15020\tvalidation_1-logloss:0.38629\n",
      "[132]\tvalidation_0-error:0.14783\tvalidation_0-logloss:0.38304\tvalidation_1-error:0.15020\tvalidation_1-logloss:0.38548\n",
      "[133]\tvalidation_0-error:0.14783\tvalidation_0-logloss:0.38224\tvalidation_1-error:0.15013\tvalidation_1-logloss:0.38469\n",
      "[134]\tvalidation_0-error:0.14777\tvalidation_0-logloss:0.38142\tvalidation_1-error:0.15013\tvalidation_1-logloss:0.38388\n",
      "[135]\tvalidation_0-error:0.14774\tvalidation_0-logloss:0.38063\tvalidation_1-error:0.15020\tvalidation_1-logloss:0.38311\n",
      "[136]\tvalidation_0-error:0.14760\tvalidation_0-logloss:0.37984\tvalidation_1-error:0.15020\tvalidation_1-logloss:0.38232\n",
      "[137]\tvalidation_0-error:0.14760\tvalidation_0-logloss:0.37904\tvalidation_1-error:0.15020\tvalidation_1-logloss:0.38155\n",
      "[138]\tvalidation_0-error:0.14760\tvalidation_0-logloss:0.37827\tvalidation_1-error:0.15020\tvalidation_1-logloss:0.38079\n",
      "[139]\tvalidation_0-error:0.14754\tvalidation_0-logloss:0.37749\tvalidation_1-error:0.15020\tvalidation_1-logloss:0.38001\n",
      "[140]\tvalidation_0-error:0.14750\tvalidation_0-logloss:0.37674\tvalidation_1-error:0.15020\tvalidation_1-logloss:0.37926\n",
      "[141]\tvalidation_0-error:0.14754\tvalidation_0-logloss:0.37597\tvalidation_1-error:0.15013\tvalidation_1-logloss:0.37851\n",
      "[142]\tvalidation_0-error:0.14744\tvalidation_0-logloss:0.37524\tvalidation_1-error:0.15020\tvalidation_1-logloss:0.37781\n",
      "[143]\tvalidation_0-error:0.14744\tvalidation_0-logloss:0.37453\tvalidation_1-error:0.15013\tvalidation_1-logloss:0.37710\n",
      "[144]\tvalidation_0-error:0.14740\tvalidation_0-logloss:0.37383\tvalidation_1-error:0.15013\tvalidation_1-logloss:0.37640\n",
      "[145]\tvalidation_0-error:0.14734\tvalidation_0-logloss:0.37312\tvalidation_1-error:0.15020\tvalidation_1-logloss:0.37572\n",
      "[146]\tvalidation_0-error:0.14730\tvalidation_0-logloss:0.37241\tvalidation_1-error:0.15020\tvalidation_1-logloss:0.37502\n",
      "[147]\tvalidation_0-error:0.14730\tvalidation_0-logloss:0.37174\tvalidation_1-error:0.15020\tvalidation_1-logloss:0.37436\n",
      "[148]\tvalidation_0-error:0.14734\tvalidation_0-logloss:0.37107\tvalidation_1-error:0.15020\tvalidation_1-logloss:0.37371\n",
      "[149]\tvalidation_0-error:0.14734\tvalidation_0-logloss:0.37041\tvalidation_1-error:0.15013\tvalidation_1-logloss:0.37307\n",
      "[150]\tvalidation_0-error:0.14730\tvalidation_0-logloss:0.36974\tvalidation_1-error:0.15020\tvalidation_1-logloss:0.37241\n",
      "[151]\tvalidation_0-error:0.14737\tvalidation_0-logloss:0.36908\tvalidation_1-error:0.15020\tvalidation_1-logloss:0.37176\n",
      "[152]\tvalidation_0-error:0.14730\tvalidation_0-logloss:0.36841\tvalidation_1-error:0.15013\tvalidation_1-logloss:0.37111\n",
      "[153]\tvalidation_0-error:0.14727\tvalidation_0-logloss:0.36778\tvalidation_1-error:0.15020\tvalidation_1-logloss:0.37048\n",
      "[154]\tvalidation_0-error:0.14730\tvalidation_0-logloss:0.36713\tvalidation_1-error:0.15027\tvalidation_1-logloss:0.36985\n",
      "[155]\tvalidation_0-error:0.14724\tvalidation_0-logloss:0.36649\tvalidation_1-error:0.15020\tvalidation_1-logloss:0.36922\n",
      "[156]\tvalidation_0-error:0.14724\tvalidation_0-logloss:0.36585\tvalidation_1-error:0.15020\tvalidation_1-logloss:0.36860\n",
      "[157]\tvalidation_0-error:0.14724\tvalidation_0-logloss:0.36523\tvalidation_1-error:0.15013\tvalidation_1-logloss:0.36799\n",
      "[158]\tvalidation_0-error:0.14721\tvalidation_0-logloss:0.36461\tvalidation_1-error:0.15013\tvalidation_1-logloss:0.36738\n",
      "[159]\tvalidation_0-error:0.14717\tvalidation_0-logloss:0.36400\tvalidation_1-error:0.15013\tvalidation_1-logloss:0.36679\n",
      "[160]\tvalidation_0-error:0.14721\tvalidation_0-logloss:0.36341\tvalidation_1-error:0.15013\tvalidation_1-logloss:0.36620\n",
      "[161]\tvalidation_0-error:0.14721\tvalidation_0-logloss:0.36282\tvalidation_1-error:0.15013\tvalidation_1-logloss:0.36564\n",
      "[162]\tvalidation_0-error:0.14717\tvalidation_0-logloss:0.36220\tvalidation_1-error:0.15013\tvalidation_1-logloss:0.36503\n",
      "[163]\tvalidation_0-error:0.14717\tvalidation_0-logloss:0.36160\tvalidation_1-error:0.15013\tvalidation_1-logloss:0.36444\n",
      "[164]\tvalidation_0-error:0.14721\tvalidation_0-logloss:0.36102\tvalidation_1-error:0.15013\tvalidation_1-logloss:0.36387\n",
      "[165]\tvalidation_0-error:0.14721\tvalidation_0-logloss:0.36043\tvalidation_1-error:0.15007\tvalidation_1-logloss:0.36328\n",
      "[166]\tvalidation_0-error:0.14694\tvalidation_0-logloss:0.35986\tvalidation_1-error:0.14967\tvalidation_1-logloss:0.36272\n",
      "[167]\tvalidation_0-error:0.14691\tvalidation_0-logloss:0.35930\tvalidation_1-error:0.14967\tvalidation_1-logloss:0.36217\n",
      "[168]\tvalidation_0-error:0.14691\tvalidation_0-logloss:0.35874\tvalidation_1-error:0.14967\tvalidation_1-logloss:0.36162\n",
      "[169]\tvalidation_0-error:0.14694\tvalidation_0-logloss:0.35817\tvalidation_1-error:0.14960\tvalidation_1-logloss:0.36106\n",
      "[170]\tvalidation_0-error:0.14691\tvalidation_0-logloss:0.35760\tvalidation_1-error:0.14947\tvalidation_1-logloss:0.36051\n",
      "[171]\tvalidation_0-error:0.14691\tvalidation_0-logloss:0.35700\tvalidation_1-error:0.14954\tvalidation_1-logloss:0.35994\n",
      "[172]\tvalidation_0-error:0.14691\tvalidation_0-logloss:0.35647\tvalidation_1-error:0.14954\tvalidation_1-logloss:0.35942\n",
      "[173]\tvalidation_0-error:0.14687\tvalidation_0-logloss:0.35596\tvalidation_1-error:0.14947\tvalidation_1-logloss:0.35894\n",
      "[174]\tvalidation_0-error:0.14684\tvalidation_0-logloss:0.35544\tvalidation_1-error:0.14947\tvalidation_1-logloss:0.35844\n",
      "[175]\tvalidation_0-error:0.14684\tvalidation_0-logloss:0.35492\tvalidation_1-error:0.14934\tvalidation_1-logloss:0.35796\n",
      "[176]\tvalidation_0-error:0.14687\tvalidation_0-logloss:0.35441\tvalidation_1-error:0.14934\tvalidation_1-logloss:0.35746\n",
      "[177]\tvalidation_0-error:0.14681\tvalidation_0-logloss:0.35390\tvalidation_1-error:0.14927\tvalidation_1-logloss:0.35696\n",
      "[178]\tvalidation_0-error:0.14681\tvalidation_0-logloss:0.35341\tvalidation_1-error:0.14927\tvalidation_1-logloss:0.35650\n",
      "[179]\tvalidation_0-error:0.14667\tvalidation_0-logloss:0.35291\tvalidation_1-error:0.14927\tvalidation_1-logloss:0.35602\n",
      "[180]\tvalidation_0-error:0.14667\tvalidation_0-logloss:0.35240\tvalidation_1-error:0.14927\tvalidation_1-logloss:0.35552\n",
      "[181]\tvalidation_0-error:0.14661\tvalidation_0-logloss:0.35193\tvalidation_1-error:0.14934\tvalidation_1-logloss:0.35508\n",
      "[182]\tvalidation_0-error:0.14661\tvalidation_0-logloss:0.35145\tvalidation_1-error:0.14934\tvalidation_1-logloss:0.35461\n",
      "[183]\tvalidation_0-error:0.14661\tvalidation_0-logloss:0.35097\tvalidation_1-error:0.14934\tvalidation_1-logloss:0.35415\n",
      "[184]\tvalidation_0-error:0.14661\tvalidation_0-logloss:0.35051\tvalidation_1-error:0.14934\tvalidation_1-logloss:0.35370\n",
      "[185]\tvalidation_0-error:0.14661\tvalidation_0-logloss:0.35004\tvalidation_1-error:0.14934\tvalidation_1-logloss:0.35325\n",
      "[186]\tvalidation_0-error:0.14658\tvalidation_0-logloss:0.34958\tvalidation_1-error:0.14934\tvalidation_1-logloss:0.35280\n",
      "[187]\tvalidation_0-error:0.14664\tvalidation_0-logloss:0.34914\tvalidation_1-error:0.14927\tvalidation_1-logloss:0.35236\n",
      "[188]\tvalidation_0-error:0.14664\tvalidation_0-logloss:0.34868\tvalidation_1-error:0.14927\tvalidation_1-logloss:0.35193\n",
      "[189]\tvalidation_0-error:0.14658\tvalidation_0-logloss:0.34824\tvalidation_1-error:0.14920\tvalidation_1-logloss:0.35149\n",
      "[190]\tvalidation_0-error:0.14644\tvalidation_0-logloss:0.34779\tvalidation_1-error:0.14934\tvalidation_1-logloss:0.35104\n",
      "[191]\tvalidation_0-error:0.14638\tvalidation_0-logloss:0.34734\tvalidation_1-error:0.14914\tvalidation_1-logloss:0.35061\n",
      "[192]\tvalidation_0-error:0.14641\tvalidation_0-logloss:0.34691\tvalidation_1-error:0.14900\tvalidation_1-logloss:0.35021\n",
      "[193]\tvalidation_0-error:0.14631\tvalidation_0-logloss:0.34647\tvalidation_1-error:0.14900\tvalidation_1-logloss:0.34980\n",
      "[194]\tvalidation_0-error:0.14624\tvalidation_0-logloss:0.34603\tvalidation_1-error:0.14894\tvalidation_1-logloss:0.34938\n",
      "[195]\tvalidation_0-error:0.14618\tvalidation_0-logloss:0.34562\tvalidation_1-error:0.14900\tvalidation_1-logloss:0.34898\n",
      "[196]\tvalidation_0-error:0.14618\tvalidation_0-logloss:0.34519\tvalidation_1-error:0.14887\tvalidation_1-logloss:0.34857\n",
      "[197]\tvalidation_0-error:0.14605\tvalidation_0-logloss:0.34480\tvalidation_1-error:0.14900\tvalidation_1-logloss:0.34820\n",
      "[198]\tvalidation_0-error:0.14605\tvalidation_0-logloss:0.34439\tvalidation_1-error:0.14894\tvalidation_1-logloss:0.34779\n",
      "[199]\tvalidation_0-error:0.14598\tvalidation_0-logloss:0.34390\tvalidation_1-error:0.14900\tvalidation_1-logloss:0.34735\n"
     ]
    },
    {
     "data": {
      "text/plain": [
       "XGBClassifier(base_score=0.5, booster='gbtree', colsample_bylevel=1,\n",
       "              colsample_bynode=1, colsample_bytree=1, enable_categorical=False,\n",
       "              gamma=0, gpu_id=-1, importance_type=None,\n",
       "              interaction_constraints='', learning_rate=0.01, max_delta_step=0,\n",
       "              max_depth=5, min_child_weight=1, missing=nan,\n",
       "              monotone_constraints='()', n_estimators=200, n_jobs=32,\n",
       "              num_parallel_tree=1, predictor='auto', random_state=0,\n",
       "              reg_alpha=0, reg_lambda=1, scale_pos_weight=1, subsample=0.7,\n",
       "              tree_method='exact', validate_parameters=1, verbosity=None)"
      ]
     },
     "execution_count": 32,
     "metadata": {},
     "output_type": "execute_result"
    }
   ],
   "source": [
    "#cv_params = {'learning_rate': [0.1, 0.01], 'subsample': [0.7, 0.8, 0.9]}\n",
    "#ind_params = {'n_estimators': 1000, 'seed': 0, 'colsample_bytree': 0.8, 'objective': 'binary:logistic', \n",
    "#              'max_depth': 3, 'min_child_weight': 1}\n",
    "\n",
    "optimized_GBM = xgb.XGBClassifier(max_depth=5,\n",
    "                        subsample=0.7,\n",
    "                        objective='binary:logistic',\n",
    "                        n_estimators=200,\n",
    "                        learning_rate = 0.01)\n",
    "\n",
    "#optimized_GBM = GridSearchCV(xgb.XGBClassifier(**ind_params), \n",
    "#                             cv_params, \n",
    "#                             scoring = 'accuracy', cv=5, n_jobs=-1)\n",
    "eval_set = [(final_train, y_train), (final_test, y_test)]\n",
    "optimized_GBM.fit(final_train, y_train.values.ravel(), early_stopping_rounds=15, eval_metric=[\"error\", \"logloss\"], eval_set=eval_set, verbose=True)"
   ]
  },
  {
   "cell_type": "markdown",
   "metadata": {},
   "source": [
    "### Third model\n",
    "Utilize XGBoost's built-in cv which allows early stopping to prevent overfitting"
   ]
  },
  {
   "cell_type": "code",
   "execution_count": 33,
   "metadata": {},
   "outputs": [],
   "source": [
    "xgdmat = xgb.DMatrix(final_train, y_train)"
   ]
  },
  {
   "cell_type": "code",
   "execution_count": 34,
   "metadata": {},
   "outputs": [],
   "source": [
    "our_params = {'eta': 0.1, 'seed': 0, 'subsample': 0.8, 'colsample_bytree': 0.8, 'objective': 'binary:logistic',\n",
    "              'max_depth': 3, 'min_child_weight': 1}\n",
    "\n",
    "cv_xgb = xgb.cv(params=our_params, dtrain=xgdmat, num_boost_round=500, metrics=['error'],\n",
    "                early_stopping_rounds=100)"
   ]
  },
  {
   "cell_type": "code",
   "execution_count": 35,
   "metadata": {},
   "outputs": [
    {
     "name": "stdout",
     "output_type": "stream",
     "text": [
      "Best iteration: 500\n"
     ]
    }
   ],
   "source": [
    "print('Best iteration:', len(cv_xgb))"
   ]
  },
  {
   "cell_type": "code",
   "execution_count": 36,
   "metadata": {},
   "outputs": [
    {
     "data": {
      "text/html": [
       "<div>\n",
       "<style scoped>\n",
       "    .dataframe tbody tr th:only-of-type {\n",
       "        vertical-align: middle;\n",
       "    }\n",
       "\n",
       "    .dataframe tbody tr th {\n",
       "        vertical-align: top;\n",
       "    }\n",
       "\n",
       "    .dataframe thead th {\n",
       "        text-align: right;\n",
       "    }\n",
       "</style>\n",
       "<table border=\"1\" class=\"dataframe\">\n",
       "  <thead>\n",
       "    <tr style=\"text-align: right;\">\n",
       "      <th></th>\n",
       "      <th>train-error-mean</th>\n",
       "      <th>train-error-std</th>\n",
       "      <th>test-error-mean</th>\n",
       "      <th>test-error-std</th>\n",
       "    </tr>\n",
       "  </thead>\n",
       "  <tbody>\n",
       "    <tr>\n",
       "      <th>495</th>\n",
       "      <td>0.114051</td>\n",
       "      <td>0.001697</td>\n",
       "      <td>0.132020</td>\n",
       "      <td>0.002599</td>\n",
       "    </tr>\n",
       "    <tr>\n",
       "      <th>496</th>\n",
       "      <td>0.113951</td>\n",
       "      <td>0.001804</td>\n",
       "      <td>0.132020</td>\n",
       "      <td>0.002687</td>\n",
       "    </tr>\n",
       "    <tr>\n",
       "      <th>497</th>\n",
       "      <td>0.113852</td>\n",
       "      <td>0.001805</td>\n",
       "      <td>0.132054</td>\n",
       "      <td>0.002796</td>\n",
       "    </tr>\n",
       "    <tr>\n",
       "      <th>498</th>\n",
       "      <td>0.113769</td>\n",
       "      <td>0.001794</td>\n",
       "      <td>0.132087</td>\n",
       "      <td>0.002703</td>\n",
       "    </tr>\n",
       "    <tr>\n",
       "      <th>499</th>\n",
       "      <td>0.113752</td>\n",
       "      <td>0.001796</td>\n",
       "      <td>0.132120</td>\n",
       "      <td>0.002825</td>\n",
       "    </tr>\n",
       "  </tbody>\n",
       "</table>\n",
       "</div>"
      ],
      "text/plain": [
       "     train-error-mean  train-error-std  test-error-mean  test-error-std\n",
       "495          0.114051         0.001697         0.132020        0.002599\n",
       "496          0.113951         0.001804         0.132020        0.002687\n",
       "497          0.113852         0.001805         0.132054        0.002796\n",
       "498          0.113769         0.001794         0.132087        0.002703\n",
       "499          0.113752         0.001796         0.132120        0.002825"
      ]
     },
     "execution_count": 36,
     "metadata": {},
     "output_type": "execute_result"
    }
   ],
   "source": [
    "cv_xgb.tail(5)"
   ]
  },
  {
   "cell_type": "markdown",
   "metadata": {},
   "source": [
    "### Final Model"
   ]
  },
  {
   "cell_type": "code",
   "execution_count": 37,
   "metadata": {},
   "outputs": [
    {
     "name": "stdout",
     "output_type": "stream",
     "text": [
      "[20:03:51] WARNING: ../src/learner.cc:1115: Starting in XGBoost 1.3.0, the default evaluation metric used with the objective 'binary:logistic' was changed from 'error' to 'logloss'. Explicitly set eval_metric if you'd like to restore the old behavior.\n"
     ]
    }
   ],
   "source": [
    "our_params = {'eta': 0.1, 'seed':0, 'subsample': 0.8, 'colsample_bytree': 0.8, \n",
    "             'objective': 'binary:logistic', 'max_depth':3, 'min_child_weight':1} \n",
    "\n",
    "final_gb = xgb.train(our_params, xgdmat, num_boost_round = 500)"
   ]
  },
  {
   "cell_type": "markdown",
   "metadata": {},
   "source": [
    "# Plot feature importances"
   ]
  },
  {
   "cell_type": "code",
   "execution_count": 38,
   "metadata": {},
   "outputs": [
    {
     "data": {
      "text/plain": [
       "<AxesSubplot:title={'center':'Feature importance'}, xlabel='F score', ylabel='Features'>"
      ]
     },
     "execution_count": 38,
     "metadata": {},
     "output_type": "execute_result"
    },
    {
     "data": {
      "image/png": "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\n",
      "text/plain": [
       "<Figure size 432x288 with 1 Axes>"
      ]
     },
     "metadata": {
      "needs_background": "light"
     },
     "output_type": "display_data"
    }
   ],
   "source": [
    "xgb.plot_importance(final_gb)"
   ]
  },
  {
   "cell_type": "code",
   "execution_count": 39,
   "metadata": {},
   "outputs": [
    {
     "data": {
      "text/plain": [
       "{'age': 420.0,\n",
       " 'workclass': 149.0,\n",
       " 'fnlwgt': 653.0,\n",
       " 'education': 108.0,\n",
       " 'education_num': 201.0,\n",
       " 'marital_status': 127.0,\n",
       " 'occupation': 264.0,\n",
       " 'relationship': 172.0,\n",
       " 'race': 61.0,\n",
       " 'sex': 50.0,\n",
       " 'capital_gain': 385.0,\n",
       " 'capital_loss': 285.0,\n",
       " 'hours_per_week': 287.0,\n",
       " 'native_country': 126.0}"
      ]
     },
     "execution_count": 39,
     "metadata": {},
     "output_type": "execute_result"
    }
   ],
   "source": [
    "importances = final_gb.get_fscore()\n",
    "importances"
   ]
  },
  {
   "cell_type": "code",
   "execution_count": 40,
   "metadata": {},
   "outputs": [
    {
     "data": {
      "text/plain": [
       "<AxesSubplot:ylabel='Feature'>"
      ]
     },
     "execution_count": 40,
     "metadata": {},
     "output_type": "execute_result"
    },
    {
     "data": {
      "image/png": "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\n",
      "text/plain": [
       "<Figure size 576x576 with 1 Axes>"
      ]
     },
     "metadata": {
      "needs_background": "light"
     },
     "output_type": "display_data"
    }
   ],
   "source": [
    "importance_frame = pd.DataFrame({'Importance': list(importances.values()), 'Feature': list(importances.keys())})\n",
    "importance_frame.sort_values(by = 'Importance', inplace=True)\n",
    "importance_frame.plot(kind='barh', x='Feature', figsize=(8,8), color='green')"
   ]
  },
  {
   "cell_type": "markdown",
   "metadata": {},
   "source": [
    "# Build model remotely on a distributed Python deep learning cluster on larger dataset "
   ]
  },
  {
   "cell_type": "code",
   "execution_count": 54,
   "metadata": {},
   "outputs": [
    {
     "name": "stdout",
     "output_type": "stream",
     "text": [
      "Importing libraries\n",
      "Start time:  2022-05-24 22:26:29.299381\n",
      "Reading in data\n",
      "Done reading in data\n",
      "Training...\n",
      "[22:27:24] WARNING: ../src/learner.cc:1115: Starting in XGBoost 1.3.0, the default evaluation metric used with the objective 'binary:logistic' was changed from 'error' to 'logloss'. Explicitly set eval_metric if you'd like to restore the old behavior.\n",
      "Saving model\n",
      "End time:  2022-05-24 22:27:37.581971\n"
     ]
    }
   ],
   "source": [
    "%%garageclustergpu\n",
    "\n",
    "# Importing libraries \n",
    "print(\"Importing libraries\")\n",
    "import numpy as np\n",
    "import pandas as pd\n",
    "import os\n",
    "import pickle\n",
    "import xgboost as xgb\n",
    "import datetime\n",
    "from sklearn.model_selection import GridSearchCV\n",
    "\n",
    "# Start time \n",
    "print(\"Start time: \", datetime.datetime.now())\n",
    "\n",
    "# Project repo path function\n",
    "def saveInProjectRepo(path):\n",
    "   ProjectRepo = os.popen('bdvcli --get cluster.project_repo').read().rstrip()\n",
    "   return str(ProjectRepo + '/' + path)\n",
    "\n",
    "# Reading in data \n",
    "print(\"Reading in data\")\n",
    "train = pd.read_csv(saveInProjectRepo('/bd-fs-mnt/TenantShare/Leumi-data/income-prediction/adult_train_cleaned.csv'))\n",
    "print(\"Done reading in data\")\n",
    "\n",
    "# Extracting target values \n",
    "y_train = train.pop('wage_class')\n",
    "train.pop('Unnamed: 0')\n",
    "\n",
    "# Model development / Training\n",
    "print(\"Training...\")\n",
    "xgdmat = xgb.DMatrix(train, y_train)\n",
    "our_params = {'eta': 0.1, 'seed': 0, 'subsample': 0.8, 'colsample_bytree': 0.8, 'objective': 'binary:logistic',\n",
    "              'max_depth': 3, 'min_child_weight': 1}\n",
    "cv_xgb = xgb.cv(params=our_params, dtrain=xgdmat, num_boost_round=3000, metrics=['error'],\n",
    "                early_stopping_rounds=100)\n",
    "optimal_rounds = len(cv_xgb)\n",
    "final_gb = xgb.train(our_params, xgdmat, num_boost_round = optimal_rounds)\n",
    "\n",
    "# Save model into project repo\n",
    "print(\"Saving model\")\n",
    "xgb.Booster.save_model(final_gb, '/bd-fs-mnt/project_repo/models/leumi-first-model.pickle.dat')\n",
    "\n",
    "# Finish time\n",
    "print(\"End time: \", datetime.datetime.now())\n",
    "\n",
    "\n",
    "# check logs of the training\n",
    "%logs --url http://garage-cluster-gpu-loadbalancer-sxgqh-0.garage-cluster-gpup5nlg.mlops-ex-demo.svc.cluster.local:10001/history/16\n"
   ]
  },
  {
   "cell_type": "markdown",
   "metadata": {},
   "source": [
    "# Testing with loading pickle model to make sure both models generate some prediction"
   ]
  },
  {
   "cell_type": "code",
   "execution_count": 55,
   "metadata": {},
   "outputs": [
    {
     "data": {
      "text/html": [
       "<div>\n",
       "<style scoped>\n",
       "    .dataframe tbody tr th:only-of-type {\n",
       "        vertical-align: middle;\n",
       "    }\n",
       "\n",
       "    .dataframe tbody tr th {\n",
       "        vertical-align: top;\n",
       "    }\n",
       "\n",
       "    .dataframe thead th {\n",
       "        text-align: right;\n",
       "    }\n",
       "</style>\n",
       "<table border=\"1\" class=\"dataframe\">\n",
       "  <thead>\n",
       "    <tr style=\"text-align: right;\">\n",
       "      <th></th>\n",
       "      <th>Unnamed: 0</th>\n",
       "      <th>age</th>\n",
       "      <th>workclass</th>\n",
       "      <th>fnlwgt</th>\n",
       "      <th>education</th>\n",
       "      <th>education_num</th>\n",
       "      <th>marital_status</th>\n",
       "      <th>occupation</th>\n",
       "      <th>relationship</th>\n",
       "      <th>race</th>\n",
       "      <th>sex</th>\n",
       "      <th>capital_gain</th>\n",
       "      <th>capital_loss</th>\n",
       "      <th>hours_per_week</th>\n",
       "      <th>native_country</th>\n",
       "      <th>wage_class</th>\n",
       "    </tr>\n",
       "  </thead>\n",
       "  <tbody>\n",
       "    <tr>\n",
       "      <th>15059</th>\n",
       "      <td>16280</td>\n",
       "      <td>35</td>\n",
       "      <td>3</td>\n",
       "      <td>182148</td>\n",
       "      <td>9</td>\n",
       "      <td>13</td>\n",
       "      <td>2</td>\n",
       "      <td>3</td>\n",
       "      <td>0</td>\n",
       "      <td>4</td>\n",
       "      <td>1</td>\n",
       "      <td>0</td>\n",
       "      <td>0</td>\n",
       "      <td>60</td>\n",
       "      <td>38</td>\n",
       "      <td>1</td>\n",
       "    </tr>\n",
       "  </tbody>\n",
       "</table>\n",
       "</div>"
      ],
      "text/plain": [
       "       Unnamed: 0  age  workclass  fnlwgt  education  education_num  \\\n",
       "15059       16280   35          3  182148          9             13   \n",
       "\n",
       "       marital_status  occupation  relationship  race  sex  capital_gain  \\\n",
       "15059               2           3             0     4    1             0   \n",
       "\n",
       "       capital_loss  hours_per_week  native_country  wage_class  \n",
       "15059             0              60              38           1  "
      ]
     },
     "execution_count": 55,
     "metadata": {},
     "output_type": "execute_result"
    }
   ],
   "source": [
    "cleaned = pd.read_csv(ProjectRepo('/bd-fs-mnt/TenantShare/Leumi-data/income-prediction/adult_test_cleaned.csv'))\n",
    "cleaned.tail(1)"
   ]
  },
  {
   "cell_type": "markdown",
   "metadata": {},
   "source": [
    "Using scoring with pickle model yields proper results"
   ]
  },
  {
   "cell_type": "code",
   "execution_count": 56,
   "metadata": {},
   "outputs": [
    {
     "data": {
      "text/plain": [
       "array([0.80730987], dtype=float32)"
      ]
     },
     "execution_count": 56,
     "metadata": {},
     "output_type": "execute_result"
    }
   ],
   "source": [
    "#Running with final_gb model from local notebook \n",
    "temp = cleaned.tail(1)\n",
    "y_test = temp.pop('wage_class')\n",
    "temp.set_index('age')\n",
    "temp.pop('Unnamed: 0')\n",
    "mat = xgb.DMatrix(temp) \n",
    "y_pred = final_gb.predict(mat)\n",
    "y_pred"
   ]
  },
  {
   "cell_type": "code",
   "execution_count": 57,
   "metadata": {},
   "outputs": [
    {
     "data": {
      "text/plain": [
       "array([0.80730987], dtype=float32)"
      ]
     },
     "execution_count": 57,
     "metadata": {},
     "output_type": "execute_result"
    }
   ],
   "source": [
    "model = xgb.Booster({'nthread':325})\n",
    "model.load_model('/bd-fs-mnt/project_repo/models/leumi-first-model.pickle.dat')\n",
    "temp = cleaned.tail(1)\n",
    "y_test = temp.pop('wage_class')\n",
    "temp.set_index('age')\n",
    "temp.pop('Unnamed: 0')\n",
    "mat = xgb.DMatrix(temp) \n",
    "y_pred = model.predict(mat)\n",
    "y_pred"
   ]
  },
  {
   "cell_type": "code",
   "execution_count": null,
   "metadata": {},
   "outputs": [],
   "source": []
  }
 ],
 "metadata": {
  "kernelspec": {
   "display_name": "Python 3",
   "language": "python",
   "name": "python3"
  },
  "language_info": {
   "codemirror_mode": {
    "name": "ipython",
    "version": 3
   },
   "file_extension": ".py",
   "mimetype": "text/x-python",
   "name": "python",
   "nbconvert_exporter": "python",
   "pygments_lexer": "ipython3",
   "version": "3.8.5"
  }
 },
 "nbformat": 4,
 "nbformat_minor": 4
}
